{
 "cells": [
  {
   "cell_type": "code",
   "execution_count": 1,
   "id": "ab203309",
   "metadata": {
    "_cell_guid": "b1076dfc-b9ad-4769-8c92-a6c4dae69d19",
    "_uuid": "8f2839f25d086af736a60e9eeb907d3b93b6e0e5",
    "execution": {
     "iopub.execute_input": "2023-08-08T23:55:12.714400Z",
     "iopub.status.busy": "2023-08-08T23:55:12.713955Z",
     "iopub.status.idle": "2023-08-08T23:55:12.726811Z",
     "shell.execute_reply": "2023-08-08T23:55:12.725880Z"
    },
    "papermill": {
     "duration": 0.029513,
     "end_time": "2023-08-08T23:55:12.728701",
     "exception": false,
     "start_time": "2023-08-08T23:55:12.699188",
     "status": "completed"
    },
    "tags": []
   },
   "outputs": [
    {
     "name": "stdout",
     "output_type": "stream",
     "text": [
      "/kaggle/input/adult-income-classification-challenge-map-6990-mi/sample_submission.csv\n",
      "/kaggle/input/adult-income-classification-challenge-map-6990-mi/train.csv\n",
      "/kaggle/input/adult-income-classification-challenge-map-6990-mi/test.csv\n"
     ]
    }
   ],
   "source": [
    "# This Python 3 environment comes with many helpful analytics libraries installed\n",
    "# It is defined by the kaggle/python Docker image: https://github.com/kaggle/docker-python\n",
    "# For example, here's several helpful packages to load\n",
    "\n",
    "import numpy as np # linear algebra\n",
    "import pandas as pd # data processing, CSV file I/O (e.g. pd.read_csv)\n",
    "\n",
    "# Input data files are available in the read-only \"../input/\" directory\n",
    "# For example, running this (by clicking run or pressing Shift+Enter) will list all files under the input directory\n",
    "\n",
    "import os\n",
    "for dirname, _, filenames in os.walk('/kaggle/input'):\n",
    "    for filename in filenames:\n",
    "        print(os.path.join(dirname, filename))\n",
    "\n",
    "# You can write up to 20GB to the current directory (/kaggle/working/) that gets preserved as output when you create a version using \"Save & Run All\" \n",
    "# You can also write temporary files to /kaggle/temp/, but they won't be saved outside of the current session"
   ]
  },
  {
   "cell_type": "markdown",
   "id": "18692012",
   "metadata": {
    "papermill": {
     "duration": 0.012484,
     "end_time": "2023-08-08T23:55:12.753720",
     "exception": false,
     "start_time": "2023-08-08T23:55:12.741236",
     "status": "completed"
    },
    "tags": []
   },
   "source": [
    "Pandas and numpy are imported for data analysis and the train test split is imported to create training and testing sets. Accuracy score is imported to measure the accuracy of each model."
   ]
  },
  {
   "cell_type": "code",
   "execution_count": 2,
   "id": "caf27b97",
   "metadata": {
    "execution": {
     "iopub.execute_input": "2023-08-08T23:55:12.781176Z",
     "iopub.status.busy": "2023-08-08T23:55:12.780732Z",
     "iopub.status.idle": "2023-08-08T23:55:14.130579Z",
     "shell.execute_reply": "2023-08-08T23:55:14.129087Z"
    },
    "papermill": {
     "duration": 1.36717,
     "end_time": "2023-08-08T23:55:14.133356",
     "exception": false,
     "start_time": "2023-08-08T23:55:12.766186",
     "status": "completed"
    },
    "tags": []
   },
   "outputs": [
    {
     "name": "stderr",
     "output_type": "stream",
     "text": [
      "/opt/conda/lib/python3.10/site-packages/scipy/__init__.py:146: UserWarning: A NumPy version >=1.16.5 and <1.23.0 is required for this version of SciPy (detected version 1.23.5\n",
      "  warnings.warn(f\"A NumPy version >={np_minversion} and <{np_maxversion}\"\n"
     ]
    }
   ],
   "source": [
    "import pandas as pd\n",
    "import numpy as np\n",
    "from sklearn.model_selection import train_test_split\n",
    "from sklearn.metrics import accuracy_score"
   ]
  },
  {
   "cell_type": "markdown",
   "id": "22dbb980",
   "metadata": {
    "papermill": {
     "duration": 0.012529,
     "end_time": "2023-08-08T23:55:14.159226",
     "exception": false,
     "start_time": "2023-08-08T23:55:14.146697",
     "status": "completed"
    },
    "tags": []
   },
   "source": [
    "The training and test data sets are retrieved from the competition input data using pandas"
   ]
  },
  {
   "cell_type": "code",
   "execution_count": 3,
   "id": "800f0350",
   "metadata": {
    "execution": {
     "iopub.execute_input": "2023-08-08T23:55:14.187084Z",
     "iopub.status.busy": "2023-08-08T23:55:14.186468Z",
     "iopub.status.idle": "2023-08-08T23:55:14.337599Z",
     "shell.execute_reply": "2023-08-08T23:55:14.336004Z"
    },
    "papermill": {
     "duration": 0.16807,
     "end_time": "2023-08-08T23:55:14.340210",
     "exception": false,
     "start_time": "2023-08-08T23:55:14.172140",
     "status": "completed"
    },
    "tags": []
   },
   "outputs": [],
   "source": [
    "train_data = pd.read_csv('/kaggle/input/adult-income-classification-challenge-map-6990-mi/train.csv')\n",
    "test_data = pd.read_csv('/kaggle/input/adult-income-classification-challenge-map-6990-mi/test.csv')"
   ]
  },
  {
   "cell_type": "markdown",
   "id": "8cd8be46",
   "metadata": {
    "papermill": {
     "duration": 0.012975,
     "end_time": "2023-08-08T23:55:14.366256",
     "exception": false,
     "start_time": "2023-08-08T23:55:14.353281",
     "status": "completed"
    },
    "tags": []
   },
   "source": [
    "train_data.head() is being used to examine the columns for useless data and categorical data"
   ]
  },
  {
   "cell_type": "code",
   "execution_count": 4,
   "id": "eae222df",
   "metadata": {
    "execution": {
     "iopub.execute_input": "2023-08-08T23:55:14.394285Z",
     "iopub.status.busy": "2023-08-08T23:55:14.393441Z",
     "iopub.status.idle": "2023-08-08T23:55:14.422849Z",
     "shell.execute_reply": "2023-08-08T23:55:14.421761Z"
    },
    "papermill": {
     "duration": 0.045672,
     "end_time": "2023-08-08T23:55:14.424754",
     "exception": false,
     "start_time": "2023-08-08T23:55:14.379082",
     "status": "completed"
    },
    "tags": []
   },
   "outputs": [
    {
     "data": {
      "text/html": [
       "<div>\n",
       "<style scoped>\n",
       "    .dataframe tbody tr th:only-of-type {\n",
       "        vertical-align: middle;\n",
       "    }\n",
       "\n",
       "    .dataframe tbody tr th {\n",
       "        vertical-align: top;\n",
       "    }\n",
       "\n",
       "    .dataframe thead th {\n",
       "        text-align: right;\n",
       "    }\n",
       "</style>\n",
       "<table border=\"1\" class=\"dataframe\">\n",
       "  <thead>\n",
       "    <tr style=\"text-align: right;\">\n",
       "      <th></th>\n",
       "      <th>ID</th>\n",
       "      <th>age</th>\n",
       "      <th>workclass</th>\n",
       "      <th>fnlwgt</th>\n",
       "      <th>education</th>\n",
       "      <th>education-num</th>\n",
       "      <th>marital-status</th>\n",
       "      <th>occupation</th>\n",
       "      <th>relationship</th>\n",
       "      <th>race</th>\n",
       "      <th>sex</th>\n",
       "      <th>capital-gain</th>\n",
       "      <th>capital-loss</th>\n",
       "      <th>hours-per-week</th>\n",
       "      <th>native-country</th>\n",
       "      <th>Income</th>\n",
       "    </tr>\n",
       "  </thead>\n",
       "  <tbody>\n",
       "    <tr>\n",
       "      <th>0</th>\n",
       "      <td>34496</td>\n",
       "      <td>37</td>\n",
       "      <td>Private</td>\n",
       "      <td>193106</td>\n",
       "      <td>Bachelors</td>\n",
       "      <td>13</td>\n",
       "      <td>Never-married</td>\n",
       "      <td>Sales</td>\n",
       "      <td>Not-in-family</td>\n",
       "      <td>White</td>\n",
       "      <td>Female</td>\n",
       "      <td>0</td>\n",
       "      <td>0</td>\n",
       "      <td>30</td>\n",
       "      <td>United-States</td>\n",
       "      <td>0</td>\n",
       "    </tr>\n",
       "    <tr>\n",
       "      <th>1</th>\n",
       "      <td>18592</td>\n",
       "      <td>56</td>\n",
       "      <td>Self-emp-inc</td>\n",
       "      <td>216636</td>\n",
       "      <td>12th</td>\n",
       "      <td>8</td>\n",
       "      <td>Married-civ-spouse</td>\n",
       "      <td>Exec-managerial</td>\n",
       "      <td>Husband</td>\n",
       "      <td>White</td>\n",
       "      <td>Male</td>\n",
       "      <td>0</td>\n",
       "      <td>1651</td>\n",
       "      <td>40</td>\n",
       "      <td>United-States</td>\n",
       "      <td>0</td>\n",
       "    </tr>\n",
       "    <tr>\n",
       "      <th>2</th>\n",
       "      <td>12563</td>\n",
       "      <td>53</td>\n",
       "      <td>Private</td>\n",
       "      <td>126977</td>\n",
       "      <td>HS-grad</td>\n",
       "      <td>9</td>\n",
       "      <td>Separated</td>\n",
       "      <td>Craft-repair</td>\n",
       "      <td>Not-in-family</td>\n",
       "      <td>White</td>\n",
       "      <td>Male</td>\n",
       "      <td>0</td>\n",
       "      <td>0</td>\n",
       "      <td>35</td>\n",
       "      <td>United-States</td>\n",
       "      <td>0</td>\n",
       "    </tr>\n",
       "    <tr>\n",
       "      <th>3</th>\n",
       "      <td>553</td>\n",
       "      <td>72</td>\n",
       "      <td>Private</td>\n",
       "      <td>205343</td>\n",
       "      <td>11th</td>\n",
       "      <td>7</td>\n",
       "      <td>Widowed</td>\n",
       "      <td>Adm-clerical</td>\n",
       "      <td>Unmarried</td>\n",
       "      <td>White</td>\n",
       "      <td>Female</td>\n",
       "      <td>0</td>\n",
       "      <td>0</td>\n",
       "      <td>40</td>\n",
       "      <td>United-States</td>\n",
       "      <td>0</td>\n",
       "    </tr>\n",
       "    <tr>\n",
       "      <th>4</th>\n",
       "      <td>3480</td>\n",
       "      <td>46</td>\n",
       "      <td>State-gov</td>\n",
       "      <td>106705</td>\n",
       "      <td>Masters</td>\n",
       "      <td>14</td>\n",
       "      <td>Never-married</td>\n",
       "      <td>Exec-managerial</td>\n",
       "      <td>Not-in-family</td>\n",
       "      <td>White</td>\n",
       "      <td>Female</td>\n",
       "      <td>0</td>\n",
       "      <td>0</td>\n",
       "      <td>38</td>\n",
       "      <td>United-States</td>\n",
       "      <td>0</td>\n",
       "    </tr>\n",
       "  </tbody>\n",
       "</table>\n",
       "</div>"
      ],
      "text/plain": [
       "      ID  age      workclass  fnlwgt   education  education-num  \\\n",
       "0  34496   37        Private  193106   Bachelors             13   \n",
       "1  18592   56   Self-emp-inc  216636        12th              8   \n",
       "2  12563   53        Private  126977     HS-grad              9   \n",
       "3    553   72        Private  205343        11th              7   \n",
       "4   3480   46      State-gov  106705     Masters             14   \n",
       "\n",
       "        marital-status        occupation    relationship    race      sex  \\\n",
       "0        Never-married             Sales   Not-in-family   White   Female   \n",
       "1   Married-civ-spouse   Exec-managerial         Husband   White     Male   \n",
       "2            Separated      Craft-repair   Not-in-family   White     Male   \n",
       "3              Widowed      Adm-clerical       Unmarried   White   Female   \n",
       "4        Never-married   Exec-managerial   Not-in-family   White   Female   \n",
       "\n",
       "   capital-gain  capital-loss  hours-per-week  native-country  Income  \n",
       "0             0             0              30   United-States       0  \n",
       "1             0          1651              40   United-States       0  \n",
       "2             0             0              35   United-States       0  \n",
       "3             0             0              40   United-States       0  \n",
       "4             0             0              38   United-States       0  "
      ]
     },
     "execution_count": 4,
     "metadata": {},
     "output_type": "execute_result"
    }
   ],
   "source": [
    "train_data.head()"
   ]
  },
  {
   "cell_type": "markdown",
   "id": "d1efecf7",
   "metadata": {
    "papermill": {
     "duration": 0.012817,
     "end_time": "2023-08-08T23:55:14.450579",
     "exception": false,
     "start_time": "2023-08-08T23:55:14.437762",
     "status": "completed"
    },
    "tags": []
   },
   "source": [
    "The ID column is removed from X because it is not needed and Income is removed from X and assigned to Y because it is the target variable."
   ]
  },
  {
   "cell_type": "code",
   "execution_count": 5,
   "id": "41f61dc2",
   "metadata": {
    "execution": {
     "iopub.execute_input": "2023-08-08T23:55:14.481245Z",
     "iopub.status.busy": "2023-08-08T23:55:14.480891Z",
     "iopub.status.idle": "2023-08-08T23:55:14.494814Z",
     "shell.execute_reply": "2023-08-08T23:55:14.494065Z"
    },
    "papermill": {
     "duration": 0.031528,
     "end_time": "2023-08-08T23:55:14.496757",
     "exception": false,
     "start_time": "2023-08-08T23:55:14.465229",
     "status": "completed"
    },
    "tags": []
   },
   "outputs": [],
   "source": [
    "X= train_data.drop(['ID', 'Income'], axis=1)\n",
    "Y= train_data['Income']"
   ]
  },
  {
   "cell_type": "markdown",
   "id": "0a810365",
   "metadata": {
    "papermill": {
     "duration": 0.012664,
     "end_time": "2023-08-08T23:55:14.522517",
     "exception": false,
     "start_time": "2023-08-08T23:55:14.509853",
     "status": "completed"
    },
    "tags": []
   },
   "source": [
    "In this next code cell I am checking for any null values in the data set."
   ]
  },
  {
   "cell_type": "code",
   "execution_count": 6,
   "id": "1af0d593",
   "metadata": {
    "execution": {
     "iopub.execute_input": "2023-08-08T23:55:14.551320Z",
     "iopub.status.busy": "2023-08-08T23:55:14.549950Z",
     "iopub.status.idle": "2023-08-08T23:55:14.599230Z",
     "shell.execute_reply": "2023-08-08T23:55:14.597662Z"
    },
    "papermill": {
     "duration": 0.066156,
     "end_time": "2023-08-08T23:55:14.601805",
     "exception": false,
     "start_time": "2023-08-08T23:55:14.535649",
     "status": "completed"
    },
    "tags": []
   },
   "outputs": [
    {
     "data": {
      "text/plain": [
       "age               0\n",
       "workclass         0\n",
       "fnlwgt            0\n",
       "education         0\n",
       "education-num     0\n",
       "marital-status    0\n",
       "occupation        0\n",
       "relationship      0\n",
       "race              0\n",
       "sex               0\n",
       "capital-gain      0\n",
       "capital-loss      0\n",
       "hours-per-week    0\n",
       "native-country    0\n",
       "dtype: int64"
      ]
     },
     "execution_count": 6,
     "metadata": {},
     "output_type": "execute_result"
    }
   ],
   "source": [
    "X.isnull().sum()"
   ]
  },
  {
   "cell_type": "markdown",
   "id": "22e31389",
   "metadata": {
    "papermill": {
     "duration": 0.013103,
     "end_time": "2023-08-08T23:55:14.628622",
     "exception": false,
     "start_time": "2023-08-08T23:55:14.615519",
     "status": "completed"
    },
    "tags": []
   },
   "source": [
    "In this cell I am using label encoder to account for all the categorical variables in this data set."
   ]
  },
  {
   "cell_type": "code",
   "execution_count": 7,
   "id": "16703d4d",
   "metadata": {
    "execution": {
     "iopub.execute_input": "2023-08-08T23:55:14.656987Z",
     "iopub.status.busy": "2023-08-08T23:55:14.656394Z",
     "iopub.status.idle": "2023-08-08T23:55:14.742680Z",
     "shell.execute_reply": "2023-08-08T23:55:14.741213Z"
    },
    "papermill": {
     "duration": 0.103355,
     "end_time": "2023-08-08T23:55:14.744955",
     "exception": false,
     "start_time": "2023-08-08T23:55:14.641600",
     "status": "completed"
    },
    "tags": []
   },
   "outputs": [
    {
     "data": {
      "text/html": [
       "<div>\n",
       "<style scoped>\n",
       "    .dataframe tbody tr th:only-of-type {\n",
       "        vertical-align: middle;\n",
       "    }\n",
       "\n",
       "    .dataframe tbody tr th {\n",
       "        vertical-align: top;\n",
       "    }\n",
       "\n",
       "    .dataframe thead th {\n",
       "        text-align: right;\n",
       "    }\n",
       "</style>\n",
       "<table border=\"1\" class=\"dataframe\">\n",
       "  <thead>\n",
       "    <tr style=\"text-align: right;\">\n",
       "      <th></th>\n",
       "      <th>age</th>\n",
       "      <th>workclass</th>\n",
       "      <th>fnlwgt</th>\n",
       "      <th>education</th>\n",
       "      <th>education-num</th>\n",
       "      <th>marital-status</th>\n",
       "      <th>occupation</th>\n",
       "      <th>relationship</th>\n",
       "      <th>race</th>\n",
       "      <th>sex</th>\n",
       "      <th>capital-gain</th>\n",
       "      <th>capital-loss</th>\n",
       "      <th>hours-per-week</th>\n",
       "      <th>native-country</th>\n",
       "    </tr>\n",
       "  </thead>\n",
       "  <tbody>\n",
       "    <tr>\n",
       "      <th>0</th>\n",
       "      <td>37</td>\n",
       "      <td>4</td>\n",
       "      <td>193106</td>\n",
       "      <td>9</td>\n",
       "      <td>13</td>\n",
       "      <td>4</td>\n",
       "      <td>12</td>\n",
       "      <td>1</td>\n",
       "      <td>4</td>\n",
       "      <td>0</td>\n",
       "      <td>0</td>\n",
       "      <td>0</td>\n",
       "      <td>30</td>\n",
       "      <td>39</td>\n",
       "    </tr>\n",
       "    <tr>\n",
       "      <th>1</th>\n",
       "      <td>56</td>\n",
       "      <td>5</td>\n",
       "      <td>216636</td>\n",
       "      <td>2</td>\n",
       "      <td>8</td>\n",
       "      <td>2</td>\n",
       "      <td>4</td>\n",
       "      <td>0</td>\n",
       "      <td>4</td>\n",
       "      <td>1</td>\n",
       "      <td>0</td>\n",
       "      <td>1651</td>\n",
       "      <td>40</td>\n",
       "      <td>39</td>\n",
       "    </tr>\n",
       "    <tr>\n",
       "      <th>2</th>\n",
       "      <td>53</td>\n",
       "      <td>4</td>\n",
       "      <td>126977</td>\n",
       "      <td>11</td>\n",
       "      <td>9</td>\n",
       "      <td>5</td>\n",
       "      <td>3</td>\n",
       "      <td>1</td>\n",
       "      <td>4</td>\n",
       "      <td>1</td>\n",
       "      <td>0</td>\n",
       "      <td>0</td>\n",
       "      <td>35</td>\n",
       "      <td>39</td>\n",
       "    </tr>\n",
       "    <tr>\n",
       "      <th>3</th>\n",
       "      <td>72</td>\n",
       "      <td>4</td>\n",
       "      <td>205343</td>\n",
       "      <td>1</td>\n",
       "      <td>7</td>\n",
       "      <td>6</td>\n",
       "      <td>1</td>\n",
       "      <td>4</td>\n",
       "      <td>4</td>\n",
       "      <td>0</td>\n",
       "      <td>0</td>\n",
       "      <td>0</td>\n",
       "      <td>40</td>\n",
       "      <td>39</td>\n",
       "    </tr>\n",
       "    <tr>\n",
       "      <th>4</th>\n",
       "      <td>46</td>\n",
       "      <td>7</td>\n",
       "      <td>106705</td>\n",
       "      <td>12</td>\n",
       "      <td>14</td>\n",
       "      <td>4</td>\n",
       "      <td>4</td>\n",
       "      <td>1</td>\n",
       "      <td>4</td>\n",
       "      <td>0</td>\n",
       "      <td>0</td>\n",
       "      <td>0</td>\n",
       "      <td>38</td>\n",
       "      <td>39</td>\n",
       "    </tr>\n",
       "  </tbody>\n",
       "</table>\n",
       "</div>"
      ],
      "text/plain": [
       "   age  workclass  fnlwgt  education  education-num  marital-status  \\\n",
       "0   37          4  193106          9             13               4   \n",
       "1   56          5  216636          2              8               2   \n",
       "2   53          4  126977         11              9               5   \n",
       "3   72          4  205343          1              7               6   \n",
       "4   46          7  106705         12             14               4   \n",
       "\n",
       "   occupation  relationship  race  sex  capital-gain  capital-loss  \\\n",
       "0          12             1     4    0             0             0   \n",
       "1           4             0     4    1             0          1651   \n",
       "2           3             1     4    1             0             0   \n",
       "3           1             4     4    0             0             0   \n",
       "4           4             1     4    0             0             0   \n",
       "\n",
       "   hours-per-week  native-country  \n",
       "0              30              39  \n",
       "1              40              39  \n",
       "2              35              39  \n",
       "3              40              39  \n",
       "4              38              39  "
      ]
     },
     "execution_count": 7,
     "metadata": {},
     "output_type": "execute_result"
    }
   ],
   "source": [
    "from sklearn.preprocessing import LabelEncoder\n",
    "le = LabelEncoder()\n",
    "X['workclass'] = le.fit_transform(X['workclass'].values)\n",
    "X['education'] = le.fit_transform(X['education'].values)\n",
    "X['marital-status'] = le.fit_transform(X['marital-status'].values)\n",
    "X['occupation'] = le.fit_transform(X['occupation'].values)\n",
    "X['relationship'] = le.fit_transform(X['relationship'].values)\n",
    "X['race'] = le.fit_transform(X['race'].values)\n",
    "X['sex'] = le.fit_transform(X['sex'].values)\n",
    "X['native-country'] = le.fit_transform(X['native-country'].values)\n",
    "X.head()"
   ]
  },
  {
   "cell_type": "markdown",
   "id": "fd9aa69d",
   "metadata": {
    "papermill": {
     "duration": 0.013094,
     "end_time": "2023-08-08T23:55:14.771818",
     "exception": false,
     "start_time": "2023-08-08T23:55:14.758724",
     "status": "completed"
    },
    "tags": []
   },
   "source": [
    "A train test split is being made to train the various machine learning models. A test size of 20% is being used."
   ]
  },
  {
   "cell_type": "code",
   "execution_count": 8,
   "id": "821ed4bf",
   "metadata": {
    "execution": {
     "iopub.execute_input": "2023-08-08T23:55:14.800977Z",
     "iopub.status.busy": "2023-08-08T23:55:14.800595Z",
     "iopub.status.idle": "2023-08-08T23:55:14.814836Z",
     "shell.execute_reply": "2023-08-08T23:55:14.813657Z"
    },
    "papermill": {
     "duration": 0.031648,
     "end_time": "2023-08-08T23:55:14.817160",
     "exception": false,
     "start_time": "2023-08-08T23:55:14.785512",
     "status": "completed"
    },
    "tags": []
   },
   "outputs": [],
   "source": [
    "X_train, X_test, y_train, y_test = train_test_split(X, Y, test_size=0.2, random_state=1)"
   ]
  },
  {
   "cell_type": "markdown",
   "id": "741c4b40",
   "metadata": {
    "papermill": {
     "duration": 0.012838,
     "end_time": "2023-08-08T23:55:14.843463",
     "exception": false,
     "start_time": "2023-08-08T23:55:14.830625",
     "status": "completed"
    },
    "tags": []
   },
   "source": [
    "In this cell I am preprocessing the data by scaling it. "
   ]
  },
  {
   "cell_type": "code",
   "execution_count": 9,
   "id": "3ac1b46a",
   "metadata": {
    "execution": {
     "iopub.execute_input": "2023-08-08T23:55:14.871960Z",
     "iopub.status.busy": "2023-08-08T23:55:14.870895Z",
     "iopub.status.idle": "2023-08-08T23:55:14.889838Z",
     "shell.execute_reply": "2023-08-08T23:55:14.888326Z"
    },
    "papermill": {
     "duration": 0.035641,
     "end_time": "2023-08-08T23:55:14.892249",
     "exception": false,
     "start_time": "2023-08-08T23:55:14.856608",
     "status": "completed"
    },
    "tags": []
   },
   "outputs": [],
   "source": [
    "from sklearn.preprocessing import StandardScaler\n",
    "\n",
    "sc = StandardScaler()\n",
    "sc.fit(X_train)\n",
    "X_train_std = sc.transform(X_train)\n",
    "sc.fit(X_test)\n",
    "X_test_std = sc.transform(X_test)"
   ]
  },
  {
   "cell_type": "markdown",
   "id": "99c5f606",
   "metadata": {
    "papermill": {
     "duration": 0.013119,
     "end_time": "2023-08-08T23:55:14.918941",
     "exception": false,
     "start_time": "2023-08-08T23:55:14.905822",
     "status": "completed"
    },
    "tags": []
   },
   "source": [
    "In this cell I am implementing PCA to reduce the number of components down to 2 to see if it makes the models more accurate."
   ]
  },
  {
   "cell_type": "code",
   "execution_count": 10,
   "id": "b3b9e7b0",
   "metadata": {
    "execution": {
     "iopub.execute_input": "2023-08-08T23:55:14.947500Z",
     "iopub.status.busy": "2023-08-08T23:55:14.947160Z",
     "iopub.status.idle": "2023-08-08T23:55:15.246159Z",
     "shell.execute_reply": "2023-08-08T23:55:15.245376Z"
    },
    "papermill": {
     "duration": 0.316218,
     "end_time": "2023-08-08T23:55:15.248400",
     "exception": false,
     "start_time": "2023-08-08T23:55:14.932182",
     "status": "completed"
    },
    "tags": []
   },
   "outputs": [],
   "source": [
    "from sklearn.decomposition import PCA\n",
    "pca = PCA(n_components=2)\n",
    "X_train_pca = pca.fit_transform(X_train_std)\n",
    "X_test_pca = pca.transform(X_test_std)"
   ]
  },
  {
   "cell_type": "markdown",
   "id": "8b82ab92",
   "metadata": {
    "papermill": {
     "duration": 0.034989,
     "end_time": "2023-08-08T23:55:15.303726",
     "exception": false,
     "start_time": "2023-08-08T23:55:15.268737",
     "status": "completed"
    },
    "tags": []
   },
   "source": [
    "I am importing all the models in this cell"
   ]
  },
  {
   "cell_type": "markdown",
   "id": "0399c7f1",
   "metadata": {
    "papermill": {
     "duration": 0.016683,
     "end_time": "2023-08-08T23:55:15.344277",
     "exception": false,
     "start_time": "2023-08-08T23:55:15.327594",
     "status": "completed"
    },
    "tags": []
   },
   "source": []
  },
  {
   "cell_type": "code",
   "execution_count": 11,
   "id": "e8824816",
   "metadata": {
    "execution": {
     "iopub.execute_input": "2023-08-08T23:55:15.373957Z",
     "iopub.status.busy": "2023-08-08T23:55:15.373629Z",
     "iopub.status.idle": "2023-08-08T23:55:15.622554Z",
     "shell.execute_reply": "2023-08-08T23:55:15.620990Z"
    },
    "papermill": {
     "duration": 0.266143,
     "end_time": "2023-08-08T23:55:15.625106",
     "exception": false,
     "start_time": "2023-08-08T23:55:15.358963",
     "status": "completed"
    },
    "tags": []
   },
   "outputs": [],
   "source": [
    "from sklearn.linear_model import Perceptron\n",
    "from sklearn.linear_model import LogisticRegression\n",
    "from sklearn.ensemble import RandomForestClassifier\n",
    "from sklearn.svm import SVC\n",
    "from sklearn.tree import DecisionTreeClassifier\n",
    "from sklearn.neighbors import KNeighborsClassifier\n",
    "knn= KNeighborsClassifier(n_neighbors=5, \n",
    "                           p=2, \n",
    "                           metric='minkowski')\n",
    "dt = DecisionTreeClassifier(criterion='gini', \n",
    "                                    max_depth=4, \n",
    "                                    random_state=1)\n",
    "svm = SVC(kernel='linear', C=1.0, random_state=1)\n",
    "svmrbf = svm = SVC(kernel='rbf', random_state=1, gamma=0.1, C=1.0)\n",
    "randomforestmodel = RandomForestClassifier(n_estimators=100, max_depth=5, random_state=1)\n",
    "lrmodel = LogisticRegression(C=100.0, solver='liblinear', multi_class='ovr')\n",
    "ppn = Perceptron(eta0=0.1, random_state=1)"
   ]
  },
  {
   "cell_type": "markdown",
   "id": "0df0e959",
   "metadata": {
    "papermill": {
     "duration": 0.013225,
     "end_time": "2023-08-08T23:55:15.652053",
     "exception": false,
     "start_time": "2023-08-08T23:55:15.638828",
     "status": "completed"
    },
    "tags": []
   },
   "source": [
    "I am fitting all of the models with the scaled PCA X training data and then predicting the target variable."
   ]
  },
  {
   "cell_type": "code",
   "execution_count": 12,
   "id": "9e845a38",
   "metadata": {
    "execution": {
     "iopub.execute_input": "2023-08-08T23:55:15.680723Z",
     "iopub.status.busy": "2023-08-08T23:55:15.680254Z",
     "iopub.status.idle": "2023-08-08T23:55:15.709781Z",
     "shell.execute_reply": "2023-08-08T23:55:15.708727Z"
    },
    "papermill": {
     "duration": 0.046165,
     "end_time": "2023-08-08T23:55:15.711744",
     "exception": false,
     "start_time": "2023-08-08T23:55:15.665579",
     "status": "completed"
    },
    "tags": []
   },
   "outputs": [
    {
     "data": {
      "text/html": [
       "<style>#sk-container-id-1 {color: black;background-color: white;}#sk-container-id-1 pre{padding: 0;}#sk-container-id-1 div.sk-toggleable {background-color: white;}#sk-container-id-1 label.sk-toggleable__label {cursor: pointer;display: block;width: 100%;margin-bottom: 0;padding: 0.3em;box-sizing: border-box;text-align: center;}#sk-container-id-1 label.sk-toggleable__label-arrow:before {content: \"▸\";float: left;margin-right: 0.25em;color: #696969;}#sk-container-id-1 label.sk-toggleable__label-arrow:hover:before {color: black;}#sk-container-id-1 div.sk-estimator:hover label.sk-toggleable__label-arrow:before {color: black;}#sk-container-id-1 div.sk-toggleable__content {max-height: 0;max-width: 0;overflow: hidden;text-align: left;background-color: #f0f8ff;}#sk-container-id-1 div.sk-toggleable__content pre {margin: 0.2em;color: black;border-radius: 0.25em;background-color: #f0f8ff;}#sk-container-id-1 input.sk-toggleable__control:checked~div.sk-toggleable__content {max-height: 200px;max-width: 100%;overflow: auto;}#sk-container-id-1 input.sk-toggleable__control:checked~label.sk-toggleable__label-arrow:before {content: \"▾\";}#sk-container-id-1 div.sk-estimator input.sk-toggleable__control:checked~label.sk-toggleable__label {background-color: #d4ebff;}#sk-container-id-1 div.sk-label input.sk-toggleable__control:checked~label.sk-toggleable__label {background-color: #d4ebff;}#sk-container-id-1 input.sk-hidden--visually {border: 0;clip: rect(1px 1px 1px 1px);clip: rect(1px, 1px, 1px, 1px);height: 1px;margin: -1px;overflow: hidden;padding: 0;position: absolute;width: 1px;}#sk-container-id-1 div.sk-estimator {font-family: monospace;background-color: #f0f8ff;border: 1px dotted black;border-radius: 0.25em;box-sizing: border-box;margin-bottom: 0.5em;}#sk-container-id-1 div.sk-estimator:hover {background-color: #d4ebff;}#sk-container-id-1 div.sk-parallel-item::after {content: \"\";width: 100%;border-bottom: 1px solid gray;flex-grow: 1;}#sk-container-id-1 div.sk-label:hover label.sk-toggleable__label {background-color: #d4ebff;}#sk-container-id-1 div.sk-serial::before {content: \"\";position: absolute;border-left: 1px solid gray;box-sizing: border-box;top: 0;bottom: 0;left: 50%;z-index: 0;}#sk-container-id-1 div.sk-serial {display: flex;flex-direction: column;align-items: center;background-color: white;padding-right: 0.2em;padding-left: 0.2em;position: relative;}#sk-container-id-1 div.sk-item {position: relative;z-index: 1;}#sk-container-id-1 div.sk-parallel {display: flex;align-items: stretch;justify-content: center;background-color: white;position: relative;}#sk-container-id-1 div.sk-item::before, #sk-container-id-1 div.sk-parallel-item::before {content: \"\";position: absolute;border-left: 1px solid gray;box-sizing: border-box;top: 0;bottom: 0;left: 50%;z-index: -1;}#sk-container-id-1 div.sk-parallel-item {display: flex;flex-direction: column;z-index: 1;position: relative;background-color: white;}#sk-container-id-1 div.sk-parallel-item:first-child::after {align-self: flex-end;width: 50%;}#sk-container-id-1 div.sk-parallel-item:last-child::after {align-self: flex-start;width: 50%;}#sk-container-id-1 div.sk-parallel-item:only-child::after {width: 0;}#sk-container-id-1 div.sk-dashed-wrapped {border: 1px dashed gray;margin: 0 0.4em 0.5em 0.4em;box-sizing: border-box;padding-bottom: 0.4em;background-color: white;}#sk-container-id-1 div.sk-label label {font-family: monospace;font-weight: bold;display: inline-block;line-height: 1.2em;}#sk-container-id-1 div.sk-label-container {text-align: center;}#sk-container-id-1 div.sk-container {/* jupyter's `normalize.less` sets `[hidden] { display: none; }` but bootstrap.min.css set `[hidden] { display: none !important; }` so we also need the `!important` here to be able to override the default hidden behavior on the sphinx rendered scikit-learn.org. See: https://github.com/scikit-learn/scikit-learn/issues/21755 */display: inline-block !important;position: relative;}#sk-container-id-1 div.sk-text-repr-fallback {display: none;}</style><div id=\"sk-container-id-1\" class=\"sk-top-container\"><div class=\"sk-text-repr-fallback\"><pre>Perceptron(eta0=0.1, random_state=1)</pre><b>In a Jupyter environment, please rerun this cell to show the HTML representation or trust the notebook. <br />On GitHub, the HTML representation is unable to render, please try loading this page with nbviewer.org.</b></div><div class=\"sk-container\" hidden><div class=\"sk-item\"><div class=\"sk-estimator sk-toggleable\"><input class=\"sk-toggleable__control sk-hidden--visually\" id=\"sk-estimator-id-1\" type=\"checkbox\" checked><label for=\"sk-estimator-id-1\" class=\"sk-toggleable__label sk-toggleable__label-arrow\">Perceptron</label><div class=\"sk-toggleable__content\"><pre>Perceptron(eta0=0.1, random_state=1)</pre></div></div></div></div></div>"
      ],
      "text/plain": [
       "Perceptron(eta0=0.1, random_state=1)"
      ]
     },
     "execution_count": 12,
     "metadata": {},
     "output_type": "execute_result"
    }
   ],
   "source": [
    "ppn.fit(X_train_pca, y_train)"
   ]
  },
  {
   "cell_type": "code",
   "execution_count": 13,
   "id": "7ff00c61",
   "metadata": {
    "execution": {
     "iopub.execute_input": "2023-08-08T23:55:15.741095Z",
     "iopub.status.busy": "2023-08-08T23:55:15.740749Z",
     "iopub.status.idle": "2023-08-08T23:55:30.732096Z",
     "shell.execute_reply": "2023-08-08T23:55:30.731165Z"
    },
    "papermill": {
     "duration": 15.008993,
     "end_time": "2023-08-08T23:55:30.734960",
     "exception": false,
     "start_time": "2023-08-08T23:55:15.725967",
     "status": "completed"
    },
    "tags": []
   },
   "outputs": [
    {
     "data": {
      "text/html": [
       "<style>#sk-container-id-2 {color: black;background-color: white;}#sk-container-id-2 pre{padding: 0;}#sk-container-id-2 div.sk-toggleable {background-color: white;}#sk-container-id-2 label.sk-toggleable__label {cursor: pointer;display: block;width: 100%;margin-bottom: 0;padding: 0.3em;box-sizing: border-box;text-align: center;}#sk-container-id-2 label.sk-toggleable__label-arrow:before {content: \"▸\";float: left;margin-right: 0.25em;color: #696969;}#sk-container-id-2 label.sk-toggleable__label-arrow:hover:before {color: black;}#sk-container-id-2 div.sk-estimator:hover label.sk-toggleable__label-arrow:before {color: black;}#sk-container-id-2 div.sk-toggleable__content {max-height: 0;max-width: 0;overflow: hidden;text-align: left;background-color: #f0f8ff;}#sk-container-id-2 div.sk-toggleable__content pre {margin: 0.2em;color: black;border-radius: 0.25em;background-color: #f0f8ff;}#sk-container-id-2 input.sk-toggleable__control:checked~div.sk-toggleable__content {max-height: 200px;max-width: 100%;overflow: auto;}#sk-container-id-2 input.sk-toggleable__control:checked~label.sk-toggleable__label-arrow:before {content: \"▾\";}#sk-container-id-2 div.sk-estimator input.sk-toggleable__control:checked~label.sk-toggleable__label {background-color: #d4ebff;}#sk-container-id-2 div.sk-label input.sk-toggleable__control:checked~label.sk-toggleable__label {background-color: #d4ebff;}#sk-container-id-2 input.sk-hidden--visually {border: 0;clip: rect(1px 1px 1px 1px);clip: rect(1px, 1px, 1px, 1px);height: 1px;margin: -1px;overflow: hidden;padding: 0;position: absolute;width: 1px;}#sk-container-id-2 div.sk-estimator {font-family: monospace;background-color: #f0f8ff;border: 1px dotted black;border-radius: 0.25em;box-sizing: border-box;margin-bottom: 0.5em;}#sk-container-id-2 div.sk-estimator:hover {background-color: #d4ebff;}#sk-container-id-2 div.sk-parallel-item::after {content: \"\";width: 100%;border-bottom: 1px solid gray;flex-grow: 1;}#sk-container-id-2 div.sk-label:hover label.sk-toggleable__label {background-color: #d4ebff;}#sk-container-id-2 div.sk-serial::before {content: \"\";position: absolute;border-left: 1px solid gray;box-sizing: border-box;top: 0;bottom: 0;left: 50%;z-index: 0;}#sk-container-id-2 div.sk-serial {display: flex;flex-direction: column;align-items: center;background-color: white;padding-right: 0.2em;padding-left: 0.2em;position: relative;}#sk-container-id-2 div.sk-item {position: relative;z-index: 1;}#sk-container-id-2 div.sk-parallel {display: flex;align-items: stretch;justify-content: center;background-color: white;position: relative;}#sk-container-id-2 div.sk-item::before, #sk-container-id-2 div.sk-parallel-item::before {content: \"\";position: absolute;border-left: 1px solid gray;box-sizing: border-box;top: 0;bottom: 0;left: 50%;z-index: -1;}#sk-container-id-2 div.sk-parallel-item {display: flex;flex-direction: column;z-index: 1;position: relative;background-color: white;}#sk-container-id-2 div.sk-parallel-item:first-child::after {align-self: flex-end;width: 50%;}#sk-container-id-2 div.sk-parallel-item:last-child::after {align-self: flex-start;width: 50%;}#sk-container-id-2 div.sk-parallel-item:only-child::after {width: 0;}#sk-container-id-2 div.sk-dashed-wrapped {border: 1px dashed gray;margin: 0 0.4em 0.5em 0.4em;box-sizing: border-box;padding-bottom: 0.4em;background-color: white;}#sk-container-id-2 div.sk-label label {font-family: monospace;font-weight: bold;display: inline-block;line-height: 1.2em;}#sk-container-id-2 div.sk-label-container {text-align: center;}#sk-container-id-2 div.sk-container {/* jupyter's `normalize.less` sets `[hidden] { display: none; }` but bootstrap.min.css set `[hidden] { display: none !important; }` so we also need the `!important` here to be able to override the default hidden behavior on the sphinx rendered scikit-learn.org. See: https://github.com/scikit-learn/scikit-learn/issues/21755 */display: inline-block !important;position: relative;}#sk-container-id-2 div.sk-text-repr-fallback {display: none;}</style><div id=\"sk-container-id-2\" class=\"sk-top-container\"><div class=\"sk-text-repr-fallback\"><pre>SVC(gamma=0.1, random_state=1)</pre><b>In a Jupyter environment, please rerun this cell to show the HTML representation or trust the notebook. <br />On GitHub, the HTML representation is unable to render, please try loading this page with nbviewer.org.</b></div><div class=\"sk-container\" hidden><div class=\"sk-item\"><div class=\"sk-estimator sk-toggleable\"><input class=\"sk-toggleable__control sk-hidden--visually\" id=\"sk-estimator-id-2\" type=\"checkbox\" checked><label for=\"sk-estimator-id-2\" class=\"sk-toggleable__label sk-toggleable__label-arrow\">SVC</label><div class=\"sk-toggleable__content\"><pre>SVC(gamma=0.1, random_state=1)</pre></div></div></div></div></div>"
      ],
      "text/plain": [
       "SVC(gamma=0.1, random_state=1)"
      ]
     },
     "execution_count": 13,
     "metadata": {},
     "output_type": "execute_result"
    }
   ],
   "source": [
    "svmrbf.fit(X_train_pca, y_train)"
   ]
  },
  {
   "cell_type": "code",
   "execution_count": 14,
   "id": "930b23f9",
   "metadata": {
    "execution": {
     "iopub.execute_input": "2023-08-08T23:55:30.765859Z",
     "iopub.status.busy": "2023-08-08T23:55:30.765405Z",
     "iopub.status.idle": "2023-08-08T23:55:30.792415Z",
     "shell.execute_reply": "2023-08-08T23:55:30.790852Z"
    },
    "papermill": {
     "duration": 0.053644,
     "end_time": "2023-08-08T23:55:30.802237",
     "exception": false,
     "start_time": "2023-08-08T23:55:30.748593",
     "status": "completed"
    },
    "tags": []
   },
   "outputs": [
    {
     "data": {
      "text/html": [
       "<style>#sk-container-id-3 {color: black;background-color: white;}#sk-container-id-3 pre{padding: 0;}#sk-container-id-3 div.sk-toggleable {background-color: white;}#sk-container-id-3 label.sk-toggleable__label {cursor: pointer;display: block;width: 100%;margin-bottom: 0;padding: 0.3em;box-sizing: border-box;text-align: center;}#sk-container-id-3 label.sk-toggleable__label-arrow:before {content: \"▸\";float: left;margin-right: 0.25em;color: #696969;}#sk-container-id-3 label.sk-toggleable__label-arrow:hover:before {color: black;}#sk-container-id-3 div.sk-estimator:hover label.sk-toggleable__label-arrow:before {color: black;}#sk-container-id-3 div.sk-toggleable__content {max-height: 0;max-width: 0;overflow: hidden;text-align: left;background-color: #f0f8ff;}#sk-container-id-3 div.sk-toggleable__content pre {margin: 0.2em;color: black;border-radius: 0.25em;background-color: #f0f8ff;}#sk-container-id-3 input.sk-toggleable__control:checked~div.sk-toggleable__content {max-height: 200px;max-width: 100%;overflow: auto;}#sk-container-id-3 input.sk-toggleable__control:checked~label.sk-toggleable__label-arrow:before {content: \"▾\";}#sk-container-id-3 div.sk-estimator input.sk-toggleable__control:checked~label.sk-toggleable__label {background-color: #d4ebff;}#sk-container-id-3 div.sk-label input.sk-toggleable__control:checked~label.sk-toggleable__label {background-color: #d4ebff;}#sk-container-id-3 input.sk-hidden--visually {border: 0;clip: rect(1px 1px 1px 1px);clip: rect(1px, 1px, 1px, 1px);height: 1px;margin: -1px;overflow: hidden;padding: 0;position: absolute;width: 1px;}#sk-container-id-3 div.sk-estimator {font-family: monospace;background-color: #f0f8ff;border: 1px dotted black;border-radius: 0.25em;box-sizing: border-box;margin-bottom: 0.5em;}#sk-container-id-3 div.sk-estimator:hover {background-color: #d4ebff;}#sk-container-id-3 div.sk-parallel-item::after {content: \"\";width: 100%;border-bottom: 1px solid gray;flex-grow: 1;}#sk-container-id-3 div.sk-label:hover label.sk-toggleable__label {background-color: #d4ebff;}#sk-container-id-3 div.sk-serial::before {content: \"\";position: absolute;border-left: 1px solid gray;box-sizing: border-box;top: 0;bottom: 0;left: 50%;z-index: 0;}#sk-container-id-3 div.sk-serial {display: flex;flex-direction: column;align-items: center;background-color: white;padding-right: 0.2em;padding-left: 0.2em;position: relative;}#sk-container-id-3 div.sk-item {position: relative;z-index: 1;}#sk-container-id-3 div.sk-parallel {display: flex;align-items: stretch;justify-content: center;background-color: white;position: relative;}#sk-container-id-3 div.sk-item::before, #sk-container-id-3 div.sk-parallel-item::before {content: \"\";position: absolute;border-left: 1px solid gray;box-sizing: border-box;top: 0;bottom: 0;left: 50%;z-index: -1;}#sk-container-id-3 div.sk-parallel-item {display: flex;flex-direction: column;z-index: 1;position: relative;background-color: white;}#sk-container-id-3 div.sk-parallel-item:first-child::after {align-self: flex-end;width: 50%;}#sk-container-id-3 div.sk-parallel-item:last-child::after {align-self: flex-start;width: 50%;}#sk-container-id-3 div.sk-parallel-item:only-child::after {width: 0;}#sk-container-id-3 div.sk-dashed-wrapped {border: 1px dashed gray;margin: 0 0.4em 0.5em 0.4em;box-sizing: border-box;padding-bottom: 0.4em;background-color: white;}#sk-container-id-3 div.sk-label label {font-family: monospace;font-weight: bold;display: inline-block;line-height: 1.2em;}#sk-container-id-3 div.sk-label-container {text-align: center;}#sk-container-id-3 div.sk-container {/* jupyter's `normalize.less` sets `[hidden] { display: none; }` but bootstrap.min.css set `[hidden] { display: none !important; }` so we also need the `!important` here to be able to override the default hidden behavior on the sphinx rendered scikit-learn.org. See: https://github.com/scikit-learn/scikit-learn/issues/21755 */display: inline-block !important;position: relative;}#sk-container-id-3 div.sk-text-repr-fallback {display: none;}</style><div id=\"sk-container-id-3\" class=\"sk-top-container\"><div class=\"sk-text-repr-fallback\"><pre>KNeighborsClassifier()</pre><b>In a Jupyter environment, please rerun this cell to show the HTML representation or trust the notebook. <br />On GitHub, the HTML representation is unable to render, please try loading this page with nbviewer.org.</b></div><div class=\"sk-container\" hidden><div class=\"sk-item\"><div class=\"sk-estimator sk-toggleable\"><input class=\"sk-toggleable__control sk-hidden--visually\" id=\"sk-estimator-id-3\" type=\"checkbox\" checked><label for=\"sk-estimator-id-3\" class=\"sk-toggleable__label sk-toggleable__label-arrow\">KNeighborsClassifier</label><div class=\"sk-toggleable__content\"><pre>KNeighborsClassifier()</pre></div></div></div></div></div>"
      ],
      "text/plain": [
       "KNeighborsClassifier()"
      ]
     },
     "execution_count": 14,
     "metadata": {},
     "output_type": "execute_result"
    }
   ],
   "source": [
    "knn.fit(X_train_pca, y_train)"
   ]
  },
  {
   "cell_type": "code",
   "execution_count": 15,
   "id": "35bfad39",
   "metadata": {
    "execution": {
     "iopub.execute_input": "2023-08-08T23:55:30.832913Z",
     "iopub.status.busy": "2023-08-08T23:55:30.832507Z",
     "iopub.status.idle": "2023-08-08T23:55:45.846816Z",
     "shell.execute_reply": "2023-08-08T23:55:45.845256Z"
    },
    "papermill": {
     "duration": 15.033294,
     "end_time": "2023-08-08T23:55:45.849637",
     "exception": false,
     "start_time": "2023-08-08T23:55:30.816343",
     "status": "completed"
    },
    "tags": []
   },
   "outputs": [
    {
     "data": {
      "text/html": [
       "<style>#sk-container-id-4 {color: black;background-color: white;}#sk-container-id-4 pre{padding: 0;}#sk-container-id-4 div.sk-toggleable {background-color: white;}#sk-container-id-4 label.sk-toggleable__label {cursor: pointer;display: block;width: 100%;margin-bottom: 0;padding: 0.3em;box-sizing: border-box;text-align: center;}#sk-container-id-4 label.sk-toggleable__label-arrow:before {content: \"▸\";float: left;margin-right: 0.25em;color: #696969;}#sk-container-id-4 label.sk-toggleable__label-arrow:hover:before {color: black;}#sk-container-id-4 div.sk-estimator:hover label.sk-toggleable__label-arrow:before {color: black;}#sk-container-id-4 div.sk-toggleable__content {max-height: 0;max-width: 0;overflow: hidden;text-align: left;background-color: #f0f8ff;}#sk-container-id-4 div.sk-toggleable__content pre {margin: 0.2em;color: black;border-radius: 0.25em;background-color: #f0f8ff;}#sk-container-id-4 input.sk-toggleable__control:checked~div.sk-toggleable__content {max-height: 200px;max-width: 100%;overflow: auto;}#sk-container-id-4 input.sk-toggleable__control:checked~label.sk-toggleable__label-arrow:before {content: \"▾\";}#sk-container-id-4 div.sk-estimator input.sk-toggleable__control:checked~label.sk-toggleable__label {background-color: #d4ebff;}#sk-container-id-4 div.sk-label input.sk-toggleable__control:checked~label.sk-toggleable__label {background-color: #d4ebff;}#sk-container-id-4 input.sk-hidden--visually {border: 0;clip: rect(1px 1px 1px 1px);clip: rect(1px, 1px, 1px, 1px);height: 1px;margin: -1px;overflow: hidden;padding: 0;position: absolute;width: 1px;}#sk-container-id-4 div.sk-estimator {font-family: monospace;background-color: #f0f8ff;border: 1px dotted black;border-radius: 0.25em;box-sizing: border-box;margin-bottom: 0.5em;}#sk-container-id-4 div.sk-estimator:hover {background-color: #d4ebff;}#sk-container-id-4 div.sk-parallel-item::after {content: \"\";width: 100%;border-bottom: 1px solid gray;flex-grow: 1;}#sk-container-id-4 div.sk-label:hover label.sk-toggleable__label {background-color: #d4ebff;}#sk-container-id-4 div.sk-serial::before {content: \"\";position: absolute;border-left: 1px solid gray;box-sizing: border-box;top: 0;bottom: 0;left: 50%;z-index: 0;}#sk-container-id-4 div.sk-serial {display: flex;flex-direction: column;align-items: center;background-color: white;padding-right: 0.2em;padding-left: 0.2em;position: relative;}#sk-container-id-4 div.sk-item {position: relative;z-index: 1;}#sk-container-id-4 div.sk-parallel {display: flex;align-items: stretch;justify-content: center;background-color: white;position: relative;}#sk-container-id-4 div.sk-item::before, #sk-container-id-4 div.sk-parallel-item::before {content: \"\";position: absolute;border-left: 1px solid gray;box-sizing: border-box;top: 0;bottom: 0;left: 50%;z-index: -1;}#sk-container-id-4 div.sk-parallel-item {display: flex;flex-direction: column;z-index: 1;position: relative;background-color: white;}#sk-container-id-4 div.sk-parallel-item:first-child::after {align-self: flex-end;width: 50%;}#sk-container-id-4 div.sk-parallel-item:last-child::after {align-self: flex-start;width: 50%;}#sk-container-id-4 div.sk-parallel-item:only-child::after {width: 0;}#sk-container-id-4 div.sk-dashed-wrapped {border: 1px dashed gray;margin: 0 0.4em 0.5em 0.4em;box-sizing: border-box;padding-bottom: 0.4em;background-color: white;}#sk-container-id-4 div.sk-label label {font-family: monospace;font-weight: bold;display: inline-block;line-height: 1.2em;}#sk-container-id-4 div.sk-label-container {text-align: center;}#sk-container-id-4 div.sk-container {/* jupyter's `normalize.less` sets `[hidden] { display: none; }` but bootstrap.min.css set `[hidden] { display: none !important; }` so we also need the `!important` here to be able to override the default hidden behavior on the sphinx rendered scikit-learn.org. See: https://github.com/scikit-learn/scikit-learn/issues/21755 */display: inline-block !important;position: relative;}#sk-container-id-4 div.sk-text-repr-fallback {display: none;}</style><div id=\"sk-container-id-4\" class=\"sk-top-container\"><div class=\"sk-text-repr-fallback\"><pre>SVC(gamma=0.1, random_state=1)</pre><b>In a Jupyter environment, please rerun this cell to show the HTML representation or trust the notebook. <br />On GitHub, the HTML representation is unable to render, please try loading this page with nbviewer.org.</b></div><div class=\"sk-container\" hidden><div class=\"sk-item\"><div class=\"sk-estimator sk-toggleable\"><input class=\"sk-toggleable__control sk-hidden--visually\" id=\"sk-estimator-id-4\" type=\"checkbox\" checked><label for=\"sk-estimator-id-4\" class=\"sk-toggleable__label sk-toggleable__label-arrow\">SVC</label><div class=\"sk-toggleable__content\"><pre>SVC(gamma=0.1, random_state=1)</pre></div></div></div></div></div>"
      ],
      "text/plain": [
       "SVC(gamma=0.1, random_state=1)"
      ]
     },
     "execution_count": 15,
     "metadata": {},
     "output_type": "execute_result"
    }
   ],
   "source": [
    "svm.fit(X_train_pca, y_train)"
   ]
  },
  {
   "cell_type": "code",
   "execution_count": 16,
   "id": "f8bdfbba",
   "metadata": {
    "execution": {
     "iopub.execute_input": "2023-08-08T23:55:45.880211Z",
     "iopub.status.busy": "2023-08-08T23:55:45.879828Z",
     "iopub.status.idle": "2023-08-08T23:55:45.930730Z",
     "shell.execute_reply": "2023-08-08T23:55:45.929599Z"
    },
    "papermill": {
     "duration": 0.069135,
     "end_time": "2023-08-08T23:55:45.933482",
     "exception": false,
     "start_time": "2023-08-08T23:55:45.864347",
     "status": "completed"
    },
    "tags": []
   },
   "outputs": [
    {
     "data": {
      "text/html": [
       "<style>#sk-container-id-5 {color: black;background-color: white;}#sk-container-id-5 pre{padding: 0;}#sk-container-id-5 div.sk-toggleable {background-color: white;}#sk-container-id-5 label.sk-toggleable__label {cursor: pointer;display: block;width: 100%;margin-bottom: 0;padding: 0.3em;box-sizing: border-box;text-align: center;}#sk-container-id-5 label.sk-toggleable__label-arrow:before {content: \"▸\";float: left;margin-right: 0.25em;color: #696969;}#sk-container-id-5 label.sk-toggleable__label-arrow:hover:before {color: black;}#sk-container-id-5 div.sk-estimator:hover label.sk-toggleable__label-arrow:before {color: black;}#sk-container-id-5 div.sk-toggleable__content {max-height: 0;max-width: 0;overflow: hidden;text-align: left;background-color: #f0f8ff;}#sk-container-id-5 div.sk-toggleable__content pre {margin: 0.2em;color: black;border-radius: 0.25em;background-color: #f0f8ff;}#sk-container-id-5 input.sk-toggleable__control:checked~div.sk-toggleable__content {max-height: 200px;max-width: 100%;overflow: auto;}#sk-container-id-5 input.sk-toggleable__control:checked~label.sk-toggleable__label-arrow:before {content: \"▾\";}#sk-container-id-5 div.sk-estimator input.sk-toggleable__control:checked~label.sk-toggleable__label {background-color: #d4ebff;}#sk-container-id-5 div.sk-label input.sk-toggleable__control:checked~label.sk-toggleable__label {background-color: #d4ebff;}#sk-container-id-5 input.sk-hidden--visually {border: 0;clip: rect(1px 1px 1px 1px);clip: rect(1px, 1px, 1px, 1px);height: 1px;margin: -1px;overflow: hidden;padding: 0;position: absolute;width: 1px;}#sk-container-id-5 div.sk-estimator {font-family: monospace;background-color: #f0f8ff;border: 1px dotted black;border-radius: 0.25em;box-sizing: border-box;margin-bottom: 0.5em;}#sk-container-id-5 div.sk-estimator:hover {background-color: #d4ebff;}#sk-container-id-5 div.sk-parallel-item::after {content: \"\";width: 100%;border-bottom: 1px solid gray;flex-grow: 1;}#sk-container-id-5 div.sk-label:hover label.sk-toggleable__label {background-color: #d4ebff;}#sk-container-id-5 div.sk-serial::before {content: \"\";position: absolute;border-left: 1px solid gray;box-sizing: border-box;top: 0;bottom: 0;left: 50%;z-index: 0;}#sk-container-id-5 div.sk-serial {display: flex;flex-direction: column;align-items: center;background-color: white;padding-right: 0.2em;padding-left: 0.2em;position: relative;}#sk-container-id-5 div.sk-item {position: relative;z-index: 1;}#sk-container-id-5 div.sk-parallel {display: flex;align-items: stretch;justify-content: center;background-color: white;position: relative;}#sk-container-id-5 div.sk-item::before, #sk-container-id-5 div.sk-parallel-item::before {content: \"\";position: absolute;border-left: 1px solid gray;box-sizing: border-box;top: 0;bottom: 0;left: 50%;z-index: -1;}#sk-container-id-5 div.sk-parallel-item {display: flex;flex-direction: column;z-index: 1;position: relative;background-color: white;}#sk-container-id-5 div.sk-parallel-item:first-child::after {align-self: flex-end;width: 50%;}#sk-container-id-5 div.sk-parallel-item:last-child::after {align-self: flex-start;width: 50%;}#sk-container-id-5 div.sk-parallel-item:only-child::after {width: 0;}#sk-container-id-5 div.sk-dashed-wrapped {border: 1px dashed gray;margin: 0 0.4em 0.5em 0.4em;box-sizing: border-box;padding-bottom: 0.4em;background-color: white;}#sk-container-id-5 div.sk-label label {font-family: monospace;font-weight: bold;display: inline-block;line-height: 1.2em;}#sk-container-id-5 div.sk-label-container {text-align: center;}#sk-container-id-5 div.sk-container {/* jupyter's `normalize.less` sets `[hidden] { display: none; }` but bootstrap.min.css set `[hidden] { display: none !important; }` so we also need the `!important` here to be able to override the default hidden behavior on the sphinx rendered scikit-learn.org. See: https://github.com/scikit-learn/scikit-learn/issues/21755 */display: inline-block !important;position: relative;}#sk-container-id-5 div.sk-text-repr-fallback {display: none;}</style><div id=\"sk-container-id-5\" class=\"sk-top-container\"><div class=\"sk-text-repr-fallback\"><pre>DecisionTreeClassifier(max_depth=4, random_state=1)</pre><b>In a Jupyter environment, please rerun this cell to show the HTML representation or trust the notebook. <br />On GitHub, the HTML representation is unable to render, please try loading this page with nbviewer.org.</b></div><div class=\"sk-container\" hidden><div class=\"sk-item\"><div class=\"sk-estimator sk-toggleable\"><input class=\"sk-toggleable__control sk-hidden--visually\" id=\"sk-estimator-id-5\" type=\"checkbox\" checked><label for=\"sk-estimator-id-5\" class=\"sk-toggleable__label sk-toggleable__label-arrow\">DecisionTreeClassifier</label><div class=\"sk-toggleable__content\"><pre>DecisionTreeClassifier(max_depth=4, random_state=1)</pre></div></div></div></div></div>"
      ],
      "text/plain": [
       "DecisionTreeClassifier(max_depth=4, random_state=1)"
      ]
     },
     "execution_count": 16,
     "metadata": {},
     "output_type": "execute_result"
    }
   ],
   "source": [
    "dt.fit(X_train_pca, y_train)"
   ]
  },
  {
   "cell_type": "code",
   "execution_count": 17,
   "id": "381cb8f0",
   "metadata": {
    "execution": {
     "iopub.execute_input": "2023-08-08T23:55:45.963598Z",
     "iopub.status.busy": "2023-08-08T23:55:45.963028Z",
     "iopub.status.idle": "2023-08-08T23:55:45.991901Z",
     "shell.execute_reply": "2023-08-08T23:55:45.991029Z"
    },
    "papermill": {
     "duration": 0.046244,
     "end_time": "2023-08-08T23:55:45.993697",
     "exception": false,
     "start_time": "2023-08-08T23:55:45.947453",
     "status": "completed"
    },
    "tags": []
   },
   "outputs": [
    {
     "data": {
      "text/html": [
       "<style>#sk-container-id-6 {color: black;background-color: white;}#sk-container-id-6 pre{padding: 0;}#sk-container-id-6 div.sk-toggleable {background-color: white;}#sk-container-id-6 label.sk-toggleable__label {cursor: pointer;display: block;width: 100%;margin-bottom: 0;padding: 0.3em;box-sizing: border-box;text-align: center;}#sk-container-id-6 label.sk-toggleable__label-arrow:before {content: \"▸\";float: left;margin-right: 0.25em;color: #696969;}#sk-container-id-6 label.sk-toggleable__label-arrow:hover:before {color: black;}#sk-container-id-6 div.sk-estimator:hover label.sk-toggleable__label-arrow:before {color: black;}#sk-container-id-6 div.sk-toggleable__content {max-height: 0;max-width: 0;overflow: hidden;text-align: left;background-color: #f0f8ff;}#sk-container-id-6 div.sk-toggleable__content pre {margin: 0.2em;color: black;border-radius: 0.25em;background-color: #f0f8ff;}#sk-container-id-6 input.sk-toggleable__control:checked~div.sk-toggleable__content {max-height: 200px;max-width: 100%;overflow: auto;}#sk-container-id-6 input.sk-toggleable__control:checked~label.sk-toggleable__label-arrow:before {content: \"▾\";}#sk-container-id-6 div.sk-estimator input.sk-toggleable__control:checked~label.sk-toggleable__label {background-color: #d4ebff;}#sk-container-id-6 div.sk-label input.sk-toggleable__control:checked~label.sk-toggleable__label {background-color: #d4ebff;}#sk-container-id-6 input.sk-hidden--visually {border: 0;clip: rect(1px 1px 1px 1px);clip: rect(1px, 1px, 1px, 1px);height: 1px;margin: -1px;overflow: hidden;padding: 0;position: absolute;width: 1px;}#sk-container-id-6 div.sk-estimator {font-family: monospace;background-color: #f0f8ff;border: 1px dotted black;border-radius: 0.25em;box-sizing: border-box;margin-bottom: 0.5em;}#sk-container-id-6 div.sk-estimator:hover {background-color: #d4ebff;}#sk-container-id-6 div.sk-parallel-item::after {content: \"\";width: 100%;border-bottom: 1px solid gray;flex-grow: 1;}#sk-container-id-6 div.sk-label:hover label.sk-toggleable__label {background-color: #d4ebff;}#sk-container-id-6 div.sk-serial::before {content: \"\";position: absolute;border-left: 1px solid gray;box-sizing: border-box;top: 0;bottom: 0;left: 50%;z-index: 0;}#sk-container-id-6 div.sk-serial {display: flex;flex-direction: column;align-items: center;background-color: white;padding-right: 0.2em;padding-left: 0.2em;position: relative;}#sk-container-id-6 div.sk-item {position: relative;z-index: 1;}#sk-container-id-6 div.sk-parallel {display: flex;align-items: stretch;justify-content: center;background-color: white;position: relative;}#sk-container-id-6 div.sk-item::before, #sk-container-id-6 div.sk-parallel-item::before {content: \"\";position: absolute;border-left: 1px solid gray;box-sizing: border-box;top: 0;bottom: 0;left: 50%;z-index: -1;}#sk-container-id-6 div.sk-parallel-item {display: flex;flex-direction: column;z-index: 1;position: relative;background-color: white;}#sk-container-id-6 div.sk-parallel-item:first-child::after {align-self: flex-end;width: 50%;}#sk-container-id-6 div.sk-parallel-item:last-child::after {align-self: flex-start;width: 50%;}#sk-container-id-6 div.sk-parallel-item:only-child::after {width: 0;}#sk-container-id-6 div.sk-dashed-wrapped {border: 1px dashed gray;margin: 0 0.4em 0.5em 0.4em;box-sizing: border-box;padding-bottom: 0.4em;background-color: white;}#sk-container-id-6 div.sk-label label {font-family: monospace;font-weight: bold;display: inline-block;line-height: 1.2em;}#sk-container-id-6 div.sk-label-container {text-align: center;}#sk-container-id-6 div.sk-container {/* jupyter's `normalize.less` sets `[hidden] { display: none; }` but bootstrap.min.css set `[hidden] { display: none !important; }` so we also need the `!important` here to be able to override the default hidden behavior on the sphinx rendered scikit-learn.org. See: https://github.com/scikit-learn/scikit-learn/issues/21755 */display: inline-block !important;position: relative;}#sk-container-id-6 div.sk-text-repr-fallback {display: none;}</style><div id=\"sk-container-id-6\" class=\"sk-top-container\"><div class=\"sk-text-repr-fallback\"><pre>LogisticRegression(C=100.0, multi_class=&#x27;ovr&#x27;, solver=&#x27;liblinear&#x27;)</pre><b>In a Jupyter environment, please rerun this cell to show the HTML representation or trust the notebook. <br />On GitHub, the HTML representation is unable to render, please try loading this page with nbviewer.org.</b></div><div class=\"sk-container\" hidden><div class=\"sk-item\"><div class=\"sk-estimator sk-toggleable\"><input class=\"sk-toggleable__control sk-hidden--visually\" id=\"sk-estimator-id-6\" type=\"checkbox\" checked><label for=\"sk-estimator-id-6\" class=\"sk-toggleable__label sk-toggleable__label-arrow\">LogisticRegression</label><div class=\"sk-toggleable__content\"><pre>LogisticRegression(C=100.0, multi_class=&#x27;ovr&#x27;, solver=&#x27;liblinear&#x27;)</pre></div></div></div></div></div>"
      ],
      "text/plain": [
       "LogisticRegression(C=100.0, multi_class='ovr', solver='liblinear')"
      ]
     },
     "execution_count": 17,
     "metadata": {},
     "output_type": "execute_result"
    }
   ],
   "source": [
    "lrmodel.fit(X_train_pca, y_train)"
   ]
  },
  {
   "cell_type": "code",
   "execution_count": 18,
   "id": "757f534a",
   "metadata": {
    "execution": {
     "iopub.execute_input": "2023-08-08T23:55:46.023095Z",
     "iopub.status.busy": "2023-08-08T23:55:46.022614Z",
     "iopub.status.idle": "2023-08-08T23:55:48.161922Z",
     "shell.execute_reply": "2023-08-08T23:55:48.160402Z"
    },
    "papermill": {
     "duration": 2.156668,
     "end_time": "2023-08-08T23:55:48.164136",
     "exception": false,
     "start_time": "2023-08-08T23:55:46.007468",
     "status": "completed"
    },
    "tags": []
   },
   "outputs": [
    {
     "data": {
      "text/html": [
       "<style>#sk-container-id-7 {color: black;background-color: white;}#sk-container-id-7 pre{padding: 0;}#sk-container-id-7 div.sk-toggleable {background-color: white;}#sk-container-id-7 label.sk-toggleable__label {cursor: pointer;display: block;width: 100%;margin-bottom: 0;padding: 0.3em;box-sizing: border-box;text-align: center;}#sk-container-id-7 label.sk-toggleable__label-arrow:before {content: \"▸\";float: left;margin-right: 0.25em;color: #696969;}#sk-container-id-7 label.sk-toggleable__label-arrow:hover:before {color: black;}#sk-container-id-7 div.sk-estimator:hover label.sk-toggleable__label-arrow:before {color: black;}#sk-container-id-7 div.sk-toggleable__content {max-height: 0;max-width: 0;overflow: hidden;text-align: left;background-color: #f0f8ff;}#sk-container-id-7 div.sk-toggleable__content pre {margin: 0.2em;color: black;border-radius: 0.25em;background-color: #f0f8ff;}#sk-container-id-7 input.sk-toggleable__control:checked~div.sk-toggleable__content {max-height: 200px;max-width: 100%;overflow: auto;}#sk-container-id-7 input.sk-toggleable__control:checked~label.sk-toggleable__label-arrow:before {content: \"▾\";}#sk-container-id-7 div.sk-estimator input.sk-toggleable__control:checked~label.sk-toggleable__label {background-color: #d4ebff;}#sk-container-id-7 div.sk-label input.sk-toggleable__control:checked~label.sk-toggleable__label {background-color: #d4ebff;}#sk-container-id-7 input.sk-hidden--visually {border: 0;clip: rect(1px 1px 1px 1px);clip: rect(1px, 1px, 1px, 1px);height: 1px;margin: -1px;overflow: hidden;padding: 0;position: absolute;width: 1px;}#sk-container-id-7 div.sk-estimator {font-family: monospace;background-color: #f0f8ff;border: 1px dotted black;border-radius: 0.25em;box-sizing: border-box;margin-bottom: 0.5em;}#sk-container-id-7 div.sk-estimator:hover {background-color: #d4ebff;}#sk-container-id-7 div.sk-parallel-item::after {content: \"\";width: 100%;border-bottom: 1px solid gray;flex-grow: 1;}#sk-container-id-7 div.sk-label:hover label.sk-toggleable__label {background-color: #d4ebff;}#sk-container-id-7 div.sk-serial::before {content: \"\";position: absolute;border-left: 1px solid gray;box-sizing: border-box;top: 0;bottom: 0;left: 50%;z-index: 0;}#sk-container-id-7 div.sk-serial {display: flex;flex-direction: column;align-items: center;background-color: white;padding-right: 0.2em;padding-left: 0.2em;position: relative;}#sk-container-id-7 div.sk-item {position: relative;z-index: 1;}#sk-container-id-7 div.sk-parallel {display: flex;align-items: stretch;justify-content: center;background-color: white;position: relative;}#sk-container-id-7 div.sk-item::before, #sk-container-id-7 div.sk-parallel-item::before {content: \"\";position: absolute;border-left: 1px solid gray;box-sizing: border-box;top: 0;bottom: 0;left: 50%;z-index: -1;}#sk-container-id-7 div.sk-parallel-item {display: flex;flex-direction: column;z-index: 1;position: relative;background-color: white;}#sk-container-id-7 div.sk-parallel-item:first-child::after {align-self: flex-end;width: 50%;}#sk-container-id-7 div.sk-parallel-item:last-child::after {align-self: flex-start;width: 50%;}#sk-container-id-7 div.sk-parallel-item:only-child::after {width: 0;}#sk-container-id-7 div.sk-dashed-wrapped {border: 1px dashed gray;margin: 0 0.4em 0.5em 0.4em;box-sizing: border-box;padding-bottom: 0.4em;background-color: white;}#sk-container-id-7 div.sk-label label {font-family: monospace;font-weight: bold;display: inline-block;line-height: 1.2em;}#sk-container-id-7 div.sk-label-container {text-align: center;}#sk-container-id-7 div.sk-container {/* jupyter's `normalize.less` sets `[hidden] { display: none; }` but bootstrap.min.css set `[hidden] { display: none !important; }` so we also need the `!important` here to be able to override the default hidden behavior on the sphinx rendered scikit-learn.org. See: https://github.com/scikit-learn/scikit-learn/issues/21755 */display: inline-block !important;position: relative;}#sk-container-id-7 div.sk-text-repr-fallback {display: none;}</style><div id=\"sk-container-id-7\" class=\"sk-top-container\"><div class=\"sk-text-repr-fallback\"><pre>RandomForestClassifier(max_depth=5, random_state=1)</pre><b>In a Jupyter environment, please rerun this cell to show the HTML representation or trust the notebook. <br />On GitHub, the HTML representation is unable to render, please try loading this page with nbviewer.org.</b></div><div class=\"sk-container\" hidden><div class=\"sk-item\"><div class=\"sk-estimator sk-toggleable\"><input class=\"sk-toggleable__control sk-hidden--visually\" id=\"sk-estimator-id-7\" type=\"checkbox\" checked><label for=\"sk-estimator-id-7\" class=\"sk-toggleable__label sk-toggleable__label-arrow\">RandomForestClassifier</label><div class=\"sk-toggleable__content\"><pre>RandomForestClassifier(max_depth=5, random_state=1)</pre></div></div></div></div></div>"
      ],
      "text/plain": [
       "RandomForestClassifier(max_depth=5, random_state=1)"
      ]
     },
     "execution_count": 18,
     "metadata": {},
     "output_type": "execute_result"
    }
   ],
   "source": [
    "randomforestmodel.fit(X_train_pca, y_train)"
   ]
  },
  {
   "cell_type": "code",
   "execution_count": 19,
   "id": "35dc575b",
   "metadata": {
    "execution": {
     "iopub.execute_input": "2023-08-08T23:55:48.196894Z",
     "iopub.status.busy": "2023-08-08T23:55:48.196490Z",
     "iopub.status.idle": "2023-08-08T23:55:48.207207Z",
     "shell.execute_reply": "2023-08-08T23:55:48.206366Z"
    },
    "papermill": {
     "duration": 0.030588,
     "end_time": "2023-08-08T23:55:48.209885",
     "exception": false,
     "start_time": "2023-08-08T23:55:48.179297",
     "status": "completed"
    },
    "tags": []
   },
   "outputs": [],
   "source": [
    "y_pred_ppn_pca= ppn.predict(X_test_pca)"
   ]
  },
  {
   "cell_type": "code",
   "execution_count": 20,
   "id": "5fbb8c01",
   "metadata": {
    "execution": {
     "iopub.execute_input": "2023-08-08T23:55:48.249305Z",
     "iopub.status.busy": "2023-08-08T23:55:48.248920Z",
     "iopub.status.idle": "2023-08-08T23:55:51.808978Z",
     "shell.execute_reply": "2023-08-08T23:55:51.807474Z"
    },
    "papermill": {
     "duration": 3.582925,
     "end_time": "2023-08-08T23:55:51.811406",
     "exception": false,
     "start_time": "2023-08-08T23:55:48.228481",
     "status": "completed"
    },
    "tags": []
   },
   "outputs": [],
   "source": [
    "y_pred_svmrbf_pca= svmrbf.predict(X_test_pca)"
   ]
  },
  {
   "cell_type": "code",
   "execution_count": 21,
   "id": "64214300",
   "metadata": {
    "execution": {
     "iopub.execute_input": "2023-08-08T23:55:51.843227Z",
     "iopub.status.busy": "2023-08-08T23:55:51.841484Z",
     "iopub.status.idle": "2023-08-08T23:55:52.007834Z",
     "shell.execute_reply": "2023-08-08T23:55:52.006463Z"
    },
    "papermill": {
     "duration": 0.184775,
     "end_time": "2023-08-08T23:55:52.010781",
     "exception": false,
     "start_time": "2023-08-08T23:55:51.826006",
     "status": "completed"
    },
    "tags": []
   },
   "outputs": [],
   "source": [
    "y_pred_knn_pca= knn.predict(X_test_pca)"
   ]
  },
  {
   "cell_type": "code",
   "execution_count": 22,
   "id": "67c26511",
   "metadata": {
    "execution": {
     "iopub.execute_input": "2023-08-08T23:55:52.040880Z",
     "iopub.status.busy": "2023-08-08T23:55:52.040518Z",
     "iopub.status.idle": "2023-08-08T23:55:52.047242Z",
     "shell.execute_reply": "2023-08-08T23:55:52.045706Z"
    },
    "papermill": {
     "duration": 0.024548,
     "end_time": "2023-08-08T23:55:52.049896",
     "exception": false,
     "start_time": "2023-08-08T23:55:52.025348",
     "status": "completed"
    },
    "tags": []
   },
   "outputs": [],
   "source": [
    "y_pred_dt_pca= dt.predict(X_test_pca)"
   ]
  },
  {
   "cell_type": "code",
   "execution_count": 23,
   "id": "e954d532",
   "metadata": {
    "execution": {
     "iopub.execute_input": "2023-08-08T23:55:52.082024Z",
     "iopub.status.busy": "2023-08-08T23:55:52.081655Z",
     "iopub.status.idle": "2023-08-08T23:55:55.645141Z",
     "shell.execute_reply": "2023-08-08T23:55:55.643756Z"
    },
    "papermill": {
     "duration": 3.582823,
     "end_time": "2023-08-08T23:55:55.647500",
     "exception": false,
     "start_time": "2023-08-08T23:55:52.064677",
     "status": "completed"
    },
    "tags": []
   },
   "outputs": [],
   "source": [
    "y_pred_svm_pca=svm.predict(X_test_pca)"
   ]
  },
  {
   "cell_type": "code",
   "execution_count": 24,
   "id": "c1801b12",
   "metadata": {
    "execution": {
     "iopub.execute_input": "2023-08-08T23:55:55.678381Z",
     "iopub.status.busy": "2023-08-08T23:55:55.678027Z",
     "iopub.status.idle": "2023-08-08T23:55:55.682435Z",
     "shell.execute_reply": "2023-08-08T23:55:55.681756Z"
    },
    "papermill": {
     "duration": 0.021958,
     "end_time": "2023-08-08T23:55:55.684109",
     "exception": false,
     "start_time": "2023-08-08T23:55:55.662151",
     "status": "completed"
    },
    "tags": []
   },
   "outputs": [],
   "source": [
    "y_pred_lr_pca=lrmodel.predict(X_test_pca)"
   ]
  },
  {
   "cell_type": "code",
   "execution_count": 25,
   "id": "6d1bddf4",
   "metadata": {
    "execution": {
     "iopub.execute_input": "2023-08-08T23:55:55.723393Z",
     "iopub.status.busy": "2023-08-08T23:55:55.723000Z",
     "iopub.status.idle": "2023-08-08T23:55:55.794206Z",
     "shell.execute_reply": "2023-08-08T23:55:55.793419Z"
    },
    "papermill": {
     "duration": 0.093704,
     "end_time": "2023-08-08T23:55:55.796560",
     "exception": false,
     "start_time": "2023-08-08T23:55:55.702856",
     "status": "completed"
    },
    "tags": []
   },
   "outputs": [],
   "source": [
    "y_pred_rf_pca=randomforestmodel.predict(X_test_pca)"
   ]
  },
  {
   "cell_type": "markdown",
   "id": "11bbae08",
   "metadata": {
    "papermill": {
     "duration": 0.013872,
     "end_time": "2023-08-08T23:55:55.825965",
     "exception": false,
     "start_time": "2023-08-08T23:55:55.812093",
     "status": "completed"
    },
    "tags": []
   },
   "source": [
    "This chunk of code provides the accuracy of each model"
   ]
  },
  {
   "cell_type": "code",
   "execution_count": 26,
   "id": "a4cf1d91",
   "metadata": {
    "execution": {
     "iopub.execute_input": "2023-08-08T23:55:55.857643Z",
     "iopub.status.busy": "2023-08-08T23:55:55.856996Z",
     "iopub.status.idle": "2023-08-08T23:55:55.869850Z",
     "shell.execute_reply": "2023-08-08T23:55:55.869115Z"
    },
    "papermill": {
     "duration": 0.031606,
     "end_time": "2023-08-08T23:55:55.871900",
     "exception": false,
     "start_time": "2023-08-08T23:55:55.840294",
     "status": "completed"
    },
    "tags": []
   },
   "outputs": [
    {
     "name": "stdout",
     "output_type": "stream",
     "text": [
      "Accuracy of knn pca: 0.7827255278310941\n",
      "Accuracy of dt pca: 0.8131797824696098\n",
      "Accuracy of svm pca: 0.7989763275751759\n",
      "Accuracy of svmrbf pca: 0.7989763275751759\n",
      "Accuracy of rf pca: 0.8121561100447857\n",
      "Accuracy of lr pca: 0.8021753039027512\n",
      "Accuracy of ppn pca: 0.7175943698016635\n"
     ]
    }
   ],
   "source": [
    "accuracyppn_pca= accuracy_score(y_test, y_pred_ppn_pca)\n",
    "accuracylr_pca= accuracy_score(y_test, y_pred_lr_pca)\n",
    "accuracyrf_pca= accuracy_score(y_test, y_pred_rf_pca)\n",
    "accuracysvm_pca= accuracy_score(y_test, y_pred_svm_pca)\n",
    "accuracysvmrbf_pca= accuracy_score(y_test, y_pred_svmrbf_pca)\n",
    "accuracydt_pca= accuracy_score(y_test, y_pred_dt_pca)\n",
    "accuracyknn_pca= accuracy_score(y_test, y_pred_knn_pca)\n",
    "print(\"Accuracy of knn pca:\",accuracyknn_pca)\n",
    "print(\"Accuracy of dt pca:\",accuracydt_pca)\n",
    "print(\"Accuracy of svm pca:\",accuracysvm_pca)\n",
    "print(\"Accuracy of svmrbf pca:\",accuracysvmrbf_pca)\n",
    "print(\"Accuracy of rf pca:\",accuracyrf_pca)\n",
    "print(\"Accuracy of lr pca:\",accuracylr_pca)\n",
    "print(\"Accuracy of ppn pca:\",accuracyppn_pca)"
   ]
  },
  {
   "cell_type": "markdown",
   "id": "0f4273ab",
   "metadata": {
    "papermill": {
     "duration": 0.014557,
     "end_time": "2023-08-08T23:55:55.900974",
     "exception": false,
     "start_time": "2023-08-08T23:55:55.886417",
     "status": "completed"
    },
    "tags": []
   },
   "source": [
    "Now I am fitting all the models with the scaled X train data without using PCA and predicitng the target."
   ]
  },
  {
   "cell_type": "code",
   "execution_count": 27,
   "id": "b45cb566",
   "metadata": {
    "execution": {
     "iopub.execute_input": "2023-08-08T23:55:55.931552Z",
     "iopub.status.busy": "2023-08-08T23:55:55.931161Z",
     "iopub.status.idle": "2023-08-08T23:55:55.963374Z",
     "shell.execute_reply": "2023-08-08T23:55:55.962573Z"
    },
    "papermill": {
     "duration": 0.050164,
     "end_time": "2023-08-08T23:55:55.965412",
     "exception": false,
     "start_time": "2023-08-08T23:55:55.915248",
     "status": "completed"
    },
    "tags": []
   },
   "outputs": [
    {
     "data": {
      "text/html": [
       "<style>#sk-container-id-8 {color: black;background-color: white;}#sk-container-id-8 pre{padding: 0;}#sk-container-id-8 div.sk-toggleable {background-color: white;}#sk-container-id-8 label.sk-toggleable__label {cursor: pointer;display: block;width: 100%;margin-bottom: 0;padding: 0.3em;box-sizing: border-box;text-align: center;}#sk-container-id-8 label.sk-toggleable__label-arrow:before {content: \"▸\";float: left;margin-right: 0.25em;color: #696969;}#sk-container-id-8 label.sk-toggleable__label-arrow:hover:before {color: black;}#sk-container-id-8 div.sk-estimator:hover label.sk-toggleable__label-arrow:before {color: black;}#sk-container-id-8 div.sk-toggleable__content {max-height: 0;max-width: 0;overflow: hidden;text-align: left;background-color: #f0f8ff;}#sk-container-id-8 div.sk-toggleable__content pre {margin: 0.2em;color: black;border-radius: 0.25em;background-color: #f0f8ff;}#sk-container-id-8 input.sk-toggleable__control:checked~div.sk-toggleable__content {max-height: 200px;max-width: 100%;overflow: auto;}#sk-container-id-8 input.sk-toggleable__control:checked~label.sk-toggleable__label-arrow:before {content: \"▾\";}#sk-container-id-8 div.sk-estimator input.sk-toggleable__control:checked~label.sk-toggleable__label {background-color: #d4ebff;}#sk-container-id-8 div.sk-label input.sk-toggleable__control:checked~label.sk-toggleable__label {background-color: #d4ebff;}#sk-container-id-8 input.sk-hidden--visually {border: 0;clip: rect(1px 1px 1px 1px);clip: rect(1px, 1px, 1px, 1px);height: 1px;margin: -1px;overflow: hidden;padding: 0;position: absolute;width: 1px;}#sk-container-id-8 div.sk-estimator {font-family: monospace;background-color: #f0f8ff;border: 1px dotted black;border-radius: 0.25em;box-sizing: border-box;margin-bottom: 0.5em;}#sk-container-id-8 div.sk-estimator:hover {background-color: #d4ebff;}#sk-container-id-8 div.sk-parallel-item::after {content: \"\";width: 100%;border-bottom: 1px solid gray;flex-grow: 1;}#sk-container-id-8 div.sk-label:hover label.sk-toggleable__label {background-color: #d4ebff;}#sk-container-id-8 div.sk-serial::before {content: \"\";position: absolute;border-left: 1px solid gray;box-sizing: border-box;top: 0;bottom: 0;left: 50%;z-index: 0;}#sk-container-id-8 div.sk-serial {display: flex;flex-direction: column;align-items: center;background-color: white;padding-right: 0.2em;padding-left: 0.2em;position: relative;}#sk-container-id-8 div.sk-item {position: relative;z-index: 1;}#sk-container-id-8 div.sk-parallel {display: flex;align-items: stretch;justify-content: center;background-color: white;position: relative;}#sk-container-id-8 div.sk-item::before, #sk-container-id-8 div.sk-parallel-item::before {content: \"\";position: absolute;border-left: 1px solid gray;box-sizing: border-box;top: 0;bottom: 0;left: 50%;z-index: -1;}#sk-container-id-8 div.sk-parallel-item {display: flex;flex-direction: column;z-index: 1;position: relative;background-color: white;}#sk-container-id-8 div.sk-parallel-item:first-child::after {align-self: flex-end;width: 50%;}#sk-container-id-8 div.sk-parallel-item:last-child::after {align-self: flex-start;width: 50%;}#sk-container-id-8 div.sk-parallel-item:only-child::after {width: 0;}#sk-container-id-8 div.sk-dashed-wrapped {border: 1px dashed gray;margin: 0 0.4em 0.5em 0.4em;box-sizing: border-box;padding-bottom: 0.4em;background-color: white;}#sk-container-id-8 div.sk-label label {font-family: monospace;font-weight: bold;display: inline-block;line-height: 1.2em;}#sk-container-id-8 div.sk-label-container {text-align: center;}#sk-container-id-8 div.sk-container {/* jupyter's `normalize.less` sets `[hidden] { display: none; }` but bootstrap.min.css set `[hidden] { display: none !important; }` so we also need the `!important` here to be able to override the default hidden behavior on the sphinx rendered scikit-learn.org. See: https://github.com/scikit-learn/scikit-learn/issues/21755 */display: inline-block !important;position: relative;}#sk-container-id-8 div.sk-text-repr-fallback {display: none;}</style><div id=\"sk-container-id-8\" class=\"sk-top-container\"><div class=\"sk-text-repr-fallback\"><pre>Perceptron(eta0=0.1, random_state=1)</pre><b>In a Jupyter environment, please rerun this cell to show the HTML representation or trust the notebook. <br />On GitHub, the HTML representation is unable to render, please try loading this page with nbviewer.org.</b></div><div class=\"sk-container\" hidden><div class=\"sk-item\"><div class=\"sk-estimator sk-toggleable\"><input class=\"sk-toggleable__control sk-hidden--visually\" id=\"sk-estimator-id-8\" type=\"checkbox\" checked><label for=\"sk-estimator-id-8\" class=\"sk-toggleable__label sk-toggleable__label-arrow\">Perceptron</label><div class=\"sk-toggleable__content\"><pre>Perceptron(eta0=0.1, random_state=1)</pre></div></div></div></div></div>"
      ],
      "text/plain": [
       "Perceptron(eta0=0.1, random_state=1)"
      ]
     },
     "execution_count": 27,
     "metadata": {},
     "output_type": "execute_result"
    }
   ],
   "source": [
    "ppn.fit(X_train_std, y_train)"
   ]
  },
  {
   "cell_type": "code",
   "execution_count": 28,
   "id": "5f491e53",
   "metadata": {
    "execution": {
     "iopub.execute_input": "2023-08-08T23:55:55.996006Z",
     "iopub.status.busy": "2023-08-08T23:55:55.995493Z",
     "iopub.status.idle": "2023-08-08T23:56:12.322957Z",
     "shell.execute_reply": "2023-08-08T23:56:12.322062Z"
    },
    "papermill": {
     "duration": 16.345008,
     "end_time": "2023-08-08T23:56:12.325034",
     "exception": false,
     "start_time": "2023-08-08T23:55:55.980026",
     "status": "completed"
    },
    "tags": []
   },
   "outputs": [
    {
     "data": {
      "text/html": [
       "<style>#sk-container-id-9 {color: black;background-color: white;}#sk-container-id-9 pre{padding: 0;}#sk-container-id-9 div.sk-toggleable {background-color: white;}#sk-container-id-9 label.sk-toggleable__label {cursor: pointer;display: block;width: 100%;margin-bottom: 0;padding: 0.3em;box-sizing: border-box;text-align: center;}#sk-container-id-9 label.sk-toggleable__label-arrow:before {content: \"▸\";float: left;margin-right: 0.25em;color: #696969;}#sk-container-id-9 label.sk-toggleable__label-arrow:hover:before {color: black;}#sk-container-id-9 div.sk-estimator:hover label.sk-toggleable__label-arrow:before {color: black;}#sk-container-id-9 div.sk-toggleable__content {max-height: 0;max-width: 0;overflow: hidden;text-align: left;background-color: #f0f8ff;}#sk-container-id-9 div.sk-toggleable__content pre {margin: 0.2em;color: black;border-radius: 0.25em;background-color: #f0f8ff;}#sk-container-id-9 input.sk-toggleable__control:checked~div.sk-toggleable__content {max-height: 200px;max-width: 100%;overflow: auto;}#sk-container-id-9 input.sk-toggleable__control:checked~label.sk-toggleable__label-arrow:before {content: \"▾\";}#sk-container-id-9 div.sk-estimator input.sk-toggleable__control:checked~label.sk-toggleable__label {background-color: #d4ebff;}#sk-container-id-9 div.sk-label input.sk-toggleable__control:checked~label.sk-toggleable__label {background-color: #d4ebff;}#sk-container-id-9 input.sk-hidden--visually {border: 0;clip: rect(1px 1px 1px 1px);clip: rect(1px, 1px, 1px, 1px);height: 1px;margin: -1px;overflow: hidden;padding: 0;position: absolute;width: 1px;}#sk-container-id-9 div.sk-estimator {font-family: monospace;background-color: #f0f8ff;border: 1px dotted black;border-radius: 0.25em;box-sizing: border-box;margin-bottom: 0.5em;}#sk-container-id-9 div.sk-estimator:hover {background-color: #d4ebff;}#sk-container-id-9 div.sk-parallel-item::after {content: \"\";width: 100%;border-bottom: 1px solid gray;flex-grow: 1;}#sk-container-id-9 div.sk-label:hover label.sk-toggleable__label {background-color: #d4ebff;}#sk-container-id-9 div.sk-serial::before {content: \"\";position: absolute;border-left: 1px solid gray;box-sizing: border-box;top: 0;bottom: 0;left: 50%;z-index: 0;}#sk-container-id-9 div.sk-serial {display: flex;flex-direction: column;align-items: center;background-color: white;padding-right: 0.2em;padding-left: 0.2em;position: relative;}#sk-container-id-9 div.sk-item {position: relative;z-index: 1;}#sk-container-id-9 div.sk-parallel {display: flex;align-items: stretch;justify-content: center;background-color: white;position: relative;}#sk-container-id-9 div.sk-item::before, #sk-container-id-9 div.sk-parallel-item::before {content: \"\";position: absolute;border-left: 1px solid gray;box-sizing: border-box;top: 0;bottom: 0;left: 50%;z-index: -1;}#sk-container-id-9 div.sk-parallel-item {display: flex;flex-direction: column;z-index: 1;position: relative;background-color: white;}#sk-container-id-9 div.sk-parallel-item:first-child::after {align-self: flex-end;width: 50%;}#sk-container-id-9 div.sk-parallel-item:last-child::after {align-self: flex-start;width: 50%;}#sk-container-id-9 div.sk-parallel-item:only-child::after {width: 0;}#sk-container-id-9 div.sk-dashed-wrapped {border: 1px dashed gray;margin: 0 0.4em 0.5em 0.4em;box-sizing: border-box;padding-bottom: 0.4em;background-color: white;}#sk-container-id-9 div.sk-label label {font-family: monospace;font-weight: bold;display: inline-block;line-height: 1.2em;}#sk-container-id-9 div.sk-label-container {text-align: center;}#sk-container-id-9 div.sk-container {/* jupyter's `normalize.less` sets `[hidden] { display: none; }` but bootstrap.min.css set `[hidden] { display: none !important; }` so we also need the `!important` here to be able to override the default hidden behavior on the sphinx rendered scikit-learn.org. See: https://github.com/scikit-learn/scikit-learn/issues/21755 */display: inline-block !important;position: relative;}#sk-container-id-9 div.sk-text-repr-fallback {display: none;}</style><div id=\"sk-container-id-9\" class=\"sk-top-container\"><div class=\"sk-text-repr-fallback\"><pre>SVC(gamma=0.1, random_state=1)</pre><b>In a Jupyter environment, please rerun this cell to show the HTML representation or trust the notebook. <br />On GitHub, the HTML representation is unable to render, please try loading this page with nbviewer.org.</b></div><div class=\"sk-container\" hidden><div class=\"sk-item\"><div class=\"sk-estimator sk-toggleable\"><input class=\"sk-toggleable__control sk-hidden--visually\" id=\"sk-estimator-id-9\" type=\"checkbox\" checked><label for=\"sk-estimator-id-9\" class=\"sk-toggleable__label sk-toggleable__label-arrow\">SVC</label><div class=\"sk-toggleable__content\"><pre>SVC(gamma=0.1, random_state=1)</pre></div></div></div></div></div>"
      ],
      "text/plain": [
       "SVC(gamma=0.1, random_state=1)"
      ]
     },
     "execution_count": 28,
     "metadata": {},
     "output_type": "execute_result"
    }
   ],
   "source": [
    "svmrbf.fit(X_train_std, y_train)"
   ]
  },
  {
   "cell_type": "code",
   "execution_count": 29,
   "id": "cc498a34",
   "metadata": {
    "execution": {
     "iopub.execute_input": "2023-08-08T23:56:12.356455Z",
     "iopub.status.busy": "2023-08-08T23:56:12.356094Z",
     "iopub.status.idle": "2023-08-08T23:56:12.419601Z",
     "shell.execute_reply": "2023-08-08T23:56:12.418032Z"
    },
    "papermill": {
     "duration": 0.082316,
     "end_time": "2023-08-08T23:56:12.422380",
     "exception": false,
     "start_time": "2023-08-08T23:56:12.340064",
     "status": "completed"
    },
    "tags": []
   },
   "outputs": [
    {
     "data": {
      "text/html": [
       "<style>#sk-container-id-10 {color: black;background-color: white;}#sk-container-id-10 pre{padding: 0;}#sk-container-id-10 div.sk-toggleable {background-color: white;}#sk-container-id-10 label.sk-toggleable__label {cursor: pointer;display: block;width: 100%;margin-bottom: 0;padding: 0.3em;box-sizing: border-box;text-align: center;}#sk-container-id-10 label.sk-toggleable__label-arrow:before {content: \"▸\";float: left;margin-right: 0.25em;color: #696969;}#sk-container-id-10 label.sk-toggleable__label-arrow:hover:before {color: black;}#sk-container-id-10 div.sk-estimator:hover label.sk-toggleable__label-arrow:before {color: black;}#sk-container-id-10 div.sk-toggleable__content {max-height: 0;max-width: 0;overflow: hidden;text-align: left;background-color: #f0f8ff;}#sk-container-id-10 div.sk-toggleable__content pre {margin: 0.2em;color: black;border-radius: 0.25em;background-color: #f0f8ff;}#sk-container-id-10 input.sk-toggleable__control:checked~div.sk-toggleable__content {max-height: 200px;max-width: 100%;overflow: auto;}#sk-container-id-10 input.sk-toggleable__control:checked~label.sk-toggleable__label-arrow:before {content: \"▾\";}#sk-container-id-10 div.sk-estimator input.sk-toggleable__control:checked~label.sk-toggleable__label {background-color: #d4ebff;}#sk-container-id-10 div.sk-label input.sk-toggleable__control:checked~label.sk-toggleable__label {background-color: #d4ebff;}#sk-container-id-10 input.sk-hidden--visually {border: 0;clip: rect(1px 1px 1px 1px);clip: rect(1px, 1px, 1px, 1px);height: 1px;margin: -1px;overflow: hidden;padding: 0;position: absolute;width: 1px;}#sk-container-id-10 div.sk-estimator {font-family: monospace;background-color: #f0f8ff;border: 1px dotted black;border-radius: 0.25em;box-sizing: border-box;margin-bottom: 0.5em;}#sk-container-id-10 div.sk-estimator:hover {background-color: #d4ebff;}#sk-container-id-10 div.sk-parallel-item::after {content: \"\";width: 100%;border-bottom: 1px solid gray;flex-grow: 1;}#sk-container-id-10 div.sk-label:hover label.sk-toggleable__label {background-color: #d4ebff;}#sk-container-id-10 div.sk-serial::before {content: \"\";position: absolute;border-left: 1px solid gray;box-sizing: border-box;top: 0;bottom: 0;left: 50%;z-index: 0;}#sk-container-id-10 div.sk-serial {display: flex;flex-direction: column;align-items: center;background-color: white;padding-right: 0.2em;padding-left: 0.2em;position: relative;}#sk-container-id-10 div.sk-item {position: relative;z-index: 1;}#sk-container-id-10 div.sk-parallel {display: flex;align-items: stretch;justify-content: center;background-color: white;position: relative;}#sk-container-id-10 div.sk-item::before, #sk-container-id-10 div.sk-parallel-item::before {content: \"\";position: absolute;border-left: 1px solid gray;box-sizing: border-box;top: 0;bottom: 0;left: 50%;z-index: -1;}#sk-container-id-10 div.sk-parallel-item {display: flex;flex-direction: column;z-index: 1;position: relative;background-color: white;}#sk-container-id-10 div.sk-parallel-item:first-child::after {align-self: flex-end;width: 50%;}#sk-container-id-10 div.sk-parallel-item:last-child::after {align-self: flex-start;width: 50%;}#sk-container-id-10 div.sk-parallel-item:only-child::after {width: 0;}#sk-container-id-10 div.sk-dashed-wrapped {border: 1px dashed gray;margin: 0 0.4em 0.5em 0.4em;box-sizing: border-box;padding-bottom: 0.4em;background-color: white;}#sk-container-id-10 div.sk-label label {font-family: monospace;font-weight: bold;display: inline-block;line-height: 1.2em;}#sk-container-id-10 div.sk-label-container {text-align: center;}#sk-container-id-10 div.sk-container {/* jupyter's `normalize.less` sets `[hidden] { display: none; }` but bootstrap.min.css set `[hidden] { display: none !important; }` so we also need the `!important` here to be able to override the default hidden behavior on the sphinx rendered scikit-learn.org. See: https://github.com/scikit-learn/scikit-learn/issues/21755 */display: inline-block !important;position: relative;}#sk-container-id-10 div.sk-text-repr-fallback {display: none;}</style><div id=\"sk-container-id-10\" class=\"sk-top-container\"><div class=\"sk-text-repr-fallback\"><pre>KNeighborsClassifier()</pre><b>In a Jupyter environment, please rerun this cell to show the HTML representation or trust the notebook. <br />On GitHub, the HTML representation is unable to render, please try loading this page with nbviewer.org.</b></div><div class=\"sk-container\" hidden><div class=\"sk-item\"><div class=\"sk-estimator sk-toggleable\"><input class=\"sk-toggleable__control sk-hidden--visually\" id=\"sk-estimator-id-10\" type=\"checkbox\" checked><label for=\"sk-estimator-id-10\" class=\"sk-toggleable__label sk-toggleable__label-arrow\">KNeighborsClassifier</label><div class=\"sk-toggleable__content\"><pre>KNeighborsClassifier()</pre></div></div></div></div></div>"
      ],
      "text/plain": [
       "KNeighborsClassifier()"
      ]
     },
     "execution_count": 29,
     "metadata": {},
     "output_type": "execute_result"
    }
   ],
   "source": [
    "knn.fit(X_train_std, y_train)"
   ]
  },
  {
   "cell_type": "code",
   "execution_count": 30,
   "id": "b04820a8",
   "metadata": {
    "execution": {
     "iopub.execute_input": "2023-08-08T23:56:12.454700Z",
     "iopub.status.busy": "2023-08-08T23:56:12.454339Z",
     "iopub.status.idle": "2023-08-08T23:56:28.687695Z",
     "shell.execute_reply": "2023-08-08T23:56:28.686137Z"
    },
    "papermill": {
     "duration": 16.252712,
     "end_time": "2023-08-08T23:56:28.690618",
     "exception": false,
     "start_time": "2023-08-08T23:56:12.437906",
     "status": "completed"
    },
    "tags": []
   },
   "outputs": [
    {
     "data": {
      "text/html": [
       "<style>#sk-container-id-11 {color: black;background-color: white;}#sk-container-id-11 pre{padding: 0;}#sk-container-id-11 div.sk-toggleable {background-color: white;}#sk-container-id-11 label.sk-toggleable__label {cursor: pointer;display: block;width: 100%;margin-bottom: 0;padding: 0.3em;box-sizing: border-box;text-align: center;}#sk-container-id-11 label.sk-toggleable__label-arrow:before {content: \"▸\";float: left;margin-right: 0.25em;color: #696969;}#sk-container-id-11 label.sk-toggleable__label-arrow:hover:before {color: black;}#sk-container-id-11 div.sk-estimator:hover label.sk-toggleable__label-arrow:before {color: black;}#sk-container-id-11 div.sk-toggleable__content {max-height: 0;max-width: 0;overflow: hidden;text-align: left;background-color: #f0f8ff;}#sk-container-id-11 div.sk-toggleable__content pre {margin: 0.2em;color: black;border-radius: 0.25em;background-color: #f0f8ff;}#sk-container-id-11 input.sk-toggleable__control:checked~div.sk-toggleable__content {max-height: 200px;max-width: 100%;overflow: auto;}#sk-container-id-11 input.sk-toggleable__control:checked~label.sk-toggleable__label-arrow:before {content: \"▾\";}#sk-container-id-11 div.sk-estimator input.sk-toggleable__control:checked~label.sk-toggleable__label {background-color: #d4ebff;}#sk-container-id-11 div.sk-label input.sk-toggleable__control:checked~label.sk-toggleable__label {background-color: #d4ebff;}#sk-container-id-11 input.sk-hidden--visually {border: 0;clip: rect(1px 1px 1px 1px);clip: rect(1px, 1px, 1px, 1px);height: 1px;margin: -1px;overflow: hidden;padding: 0;position: absolute;width: 1px;}#sk-container-id-11 div.sk-estimator {font-family: monospace;background-color: #f0f8ff;border: 1px dotted black;border-radius: 0.25em;box-sizing: border-box;margin-bottom: 0.5em;}#sk-container-id-11 div.sk-estimator:hover {background-color: #d4ebff;}#sk-container-id-11 div.sk-parallel-item::after {content: \"\";width: 100%;border-bottom: 1px solid gray;flex-grow: 1;}#sk-container-id-11 div.sk-label:hover label.sk-toggleable__label {background-color: #d4ebff;}#sk-container-id-11 div.sk-serial::before {content: \"\";position: absolute;border-left: 1px solid gray;box-sizing: border-box;top: 0;bottom: 0;left: 50%;z-index: 0;}#sk-container-id-11 div.sk-serial {display: flex;flex-direction: column;align-items: center;background-color: white;padding-right: 0.2em;padding-left: 0.2em;position: relative;}#sk-container-id-11 div.sk-item {position: relative;z-index: 1;}#sk-container-id-11 div.sk-parallel {display: flex;align-items: stretch;justify-content: center;background-color: white;position: relative;}#sk-container-id-11 div.sk-item::before, #sk-container-id-11 div.sk-parallel-item::before {content: \"\";position: absolute;border-left: 1px solid gray;box-sizing: border-box;top: 0;bottom: 0;left: 50%;z-index: -1;}#sk-container-id-11 div.sk-parallel-item {display: flex;flex-direction: column;z-index: 1;position: relative;background-color: white;}#sk-container-id-11 div.sk-parallel-item:first-child::after {align-self: flex-end;width: 50%;}#sk-container-id-11 div.sk-parallel-item:last-child::after {align-self: flex-start;width: 50%;}#sk-container-id-11 div.sk-parallel-item:only-child::after {width: 0;}#sk-container-id-11 div.sk-dashed-wrapped {border: 1px dashed gray;margin: 0 0.4em 0.5em 0.4em;box-sizing: border-box;padding-bottom: 0.4em;background-color: white;}#sk-container-id-11 div.sk-label label {font-family: monospace;font-weight: bold;display: inline-block;line-height: 1.2em;}#sk-container-id-11 div.sk-label-container {text-align: center;}#sk-container-id-11 div.sk-container {/* jupyter's `normalize.less` sets `[hidden] { display: none; }` but bootstrap.min.css set `[hidden] { display: none !important; }` so we also need the `!important` here to be able to override the default hidden behavior on the sphinx rendered scikit-learn.org. See: https://github.com/scikit-learn/scikit-learn/issues/21755 */display: inline-block !important;position: relative;}#sk-container-id-11 div.sk-text-repr-fallback {display: none;}</style><div id=\"sk-container-id-11\" class=\"sk-top-container\"><div class=\"sk-text-repr-fallback\"><pre>SVC(gamma=0.1, random_state=1)</pre><b>In a Jupyter environment, please rerun this cell to show the HTML representation or trust the notebook. <br />On GitHub, the HTML representation is unable to render, please try loading this page with nbviewer.org.</b></div><div class=\"sk-container\" hidden><div class=\"sk-item\"><div class=\"sk-estimator sk-toggleable\"><input class=\"sk-toggleable__control sk-hidden--visually\" id=\"sk-estimator-id-11\" type=\"checkbox\" checked><label for=\"sk-estimator-id-11\" class=\"sk-toggleable__label sk-toggleable__label-arrow\">SVC</label><div class=\"sk-toggleable__content\"><pre>SVC(gamma=0.1, random_state=1)</pre></div></div></div></div></div>"
      ],
      "text/plain": [
       "SVC(gamma=0.1, random_state=1)"
      ]
     },
     "execution_count": 30,
     "metadata": {},
     "output_type": "execute_result"
    }
   ],
   "source": [
    "svm.fit(X_train_std, y_train)"
   ]
  },
  {
   "cell_type": "code",
   "execution_count": 31,
   "id": "d588fd72",
   "metadata": {
    "execution": {
     "iopub.execute_input": "2023-08-08T23:56:28.721114Z",
     "iopub.status.busy": "2023-08-08T23:56:28.720774Z",
     "iopub.status.idle": "2023-08-08T23:56:28.795481Z",
     "shell.execute_reply": "2023-08-08T23:56:28.794368Z"
    },
    "papermill": {
     "duration": 0.092729,
     "end_time": "2023-08-08T23:56:28.798047",
     "exception": false,
     "start_time": "2023-08-08T23:56:28.705318",
     "status": "completed"
    },
    "tags": []
   },
   "outputs": [
    {
     "data": {
      "text/html": [
       "<style>#sk-container-id-12 {color: black;background-color: white;}#sk-container-id-12 pre{padding: 0;}#sk-container-id-12 div.sk-toggleable {background-color: white;}#sk-container-id-12 label.sk-toggleable__label {cursor: pointer;display: block;width: 100%;margin-bottom: 0;padding: 0.3em;box-sizing: border-box;text-align: center;}#sk-container-id-12 label.sk-toggleable__label-arrow:before {content: \"▸\";float: left;margin-right: 0.25em;color: #696969;}#sk-container-id-12 label.sk-toggleable__label-arrow:hover:before {color: black;}#sk-container-id-12 div.sk-estimator:hover label.sk-toggleable__label-arrow:before {color: black;}#sk-container-id-12 div.sk-toggleable__content {max-height: 0;max-width: 0;overflow: hidden;text-align: left;background-color: #f0f8ff;}#sk-container-id-12 div.sk-toggleable__content pre {margin: 0.2em;color: black;border-radius: 0.25em;background-color: #f0f8ff;}#sk-container-id-12 input.sk-toggleable__control:checked~div.sk-toggleable__content {max-height: 200px;max-width: 100%;overflow: auto;}#sk-container-id-12 input.sk-toggleable__control:checked~label.sk-toggleable__label-arrow:before {content: \"▾\";}#sk-container-id-12 div.sk-estimator input.sk-toggleable__control:checked~label.sk-toggleable__label {background-color: #d4ebff;}#sk-container-id-12 div.sk-label input.sk-toggleable__control:checked~label.sk-toggleable__label {background-color: #d4ebff;}#sk-container-id-12 input.sk-hidden--visually {border: 0;clip: rect(1px 1px 1px 1px);clip: rect(1px, 1px, 1px, 1px);height: 1px;margin: -1px;overflow: hidden;padding: 0;position: absolute;width: 1px;}#sk-container-id-12 div.sk-estimator {font-family: monospace;background-color: #f0f8ff;border: 1px dotted black;border-radius: 0.25em;box-sizing: border-box;margin-bottom: 0.5em;}#sk-container-id-12 div.sk-estimator:hover {background-color: #d4ebff;}#sk-container-id-12 div.sk-parallel-item::after {content: \"\";width: 100%;border-bottom: 1px solid gray;flex-grow: 1;}#sk-container-id-12 div.sk-label:hover label.sk-toggleable__label {background-color: #d4ebff;}#sk-container-id-12 div.sk-serial::before {content: \"\";position: absolute;border-left: 1px solid gray;box-sizing: border-box;top: 0;bottom: 0;left: 50%;z-index: 0;}#sk-container-id-12 div.sk-serial {display: flex;flex-direction: column;align-items: center;background-color: white;padding-right: 0.2em;padding-left: 0.2em;position: relative;}#sk-container-id-12 div.sk-item {position: relative;z-index: 1;}#sk-container-id-12 div.sk-parallel {display: flex;align-items: stretch;justify-content: center;background-color: white;position: relative;}#sk-container-id-12 div.sk-item::before, #sk-container-id-12 div.sk-parallel-item::before {content: \"\";position: absolute;border-left: 1px solid gray;box-sizing: border-box;top: 0;bottom: 0;left: 50%;z-index: -1;}#sk-container-id-12 div.sk-parallel-item {display: flex;flex-direction: column;z-index: 1;position: relative;background-color: white;}#sk-container-id-12 div.sk-parallel-item:first-child::after {align-self: flex-end;width: 50%;}#sk-container-id-12 div.sk-parallel-item:last-child::after {align-self: flex-start;width: 50%;}#sk-container-id-12 div.sk-parallel-item:only-child::after {width: 0;}#sk-container-id-12 div.sk-dashed-wrapped {border: 1px dashed gray;margin: 0 0.4em 0.5em 0.4em;box-sizing: border-box;padding-bottom: 0.4em;background-color: white;}#sk-container-id-12 div.sk-label label {font-family: monospace;font-weight: bold;display: inline-block;line-height: 1.2em;}#sk-container-id-12 div.sk-label-container {text-align: center;}#sk-container-id-12 div.sk-container {/* jupyter's `normalize.less` sets `[hidden] { display: none; }` but bootstrap.min.css set `[hidden] { display: none !important; }` so we also need the `!important` here to be able to override the default hidden behavior on the sphinx rendered scikit-learn.org. See: https://github.com/scikit-learn/scikit-learn/issues/21755 */display: inline-block !important;position: relative;}#sk-container-id-12 div.sk-text-repr-fallback {display: none;}</style><div id=\"sk-container-id-12\" class=\"sk-top-container\"><div class=\"sk-text-repr-fallback\"><pre>DecisionTreeClassifier(max_depth=4, random_state=1)</pre><b>In a Jupyter environment, please rerun this cell to show the HTML representation or trust the notebook. <br />On GitHub, the HTML representation is unable to render, please try loading this page with nbviewer.org.</b></div><div class=\"sk-container\" hidden><div class=\"sk-item\"><div class=\"sk-estimator sk-toggleable\"><input class=\"sk-toggleable__control sk-hidden--visually\" id=\"sk-estimator-id-12\" type=\"checkbox\" checked><label for=\"sk-estimator-id-12\" class=\"sk-toggleable__label sk-toggleable__label-arrow\">DecisionTreeClassifier</label><div class=\"sk-toggleable__content\"><pre>DecisionTreeClassifier(max_depth=4, random_state=1)</pre></div></div></div></div></div>"
      ],
      "text/plain": [
       "DecisionTreeClassifier(max_depth=4, random_state=1)"
      ]
     },
     "execution_count": 31,
     "metadata": {},
     "output_type": "execute_result"
    }
   ],
   "source": [
    "dt.fit(X_train_std, y_train)"
   ]
  },
  {
   "cell_type": "code",
   "execution_count": 32,
   "id": "620aad22",
   "metadata": {
    "execution": {
     "iopub.execute_input": "2023-08-08T23:56:28.830244Z",
     "iopub.status.busy": "2023-08-08T23:56:28.829824Z",
     "iopub.status.idle": "2023-08-08T23:56:28.954075Z",
     "shell.execute_reply": "2023-08-08T23:56:28.953109Z"
    },
    "papermill": {
     "duration": 0.142743,
     "end_time": "2023-08-08T23:56:28.956219",
     "exception": false,
     "start_time": "2023-08-08T23:56:28.813476",
     "status": "completed"
    },
    "tags": []
   },
   "outputs": [
    {
     "data": {
      "text/html": [
       "<style>#sk-container-id-13 {color: black;background-color: white;}#sk-container-id-13 pre{padding: 0;}#sk-container-id-13 div.sk-toggleable {background-color: white;}#sk-container-id-13 label.sk-toggleable__label {cursor: pointer;display: block;width: 100%;margin-bottom: 0;padding: 0.3em;box-sizing: border-box;text-align: center;}#sk-container-id-13 label.sk-toggleable__label-arrow:before {content: \"▸\";float: left;margin-right: 0.25em;color: #696969;}#sk-container-id-13 label.sk-toggleable__label-arrow:hover:before {color: black;}#sk-container-id-13 div.sk-estimator:hover label.sk-toggleable__label-arrow:before {color: black;}#sk-container-id-13 div.sk-toggleable__content {max-height: 0;max-width: 0;overflow: hidden;text-align: left;background-color: #f0f8ff;}#sk-container-id-13 div.sk-toggleable__content pre {margin: 0.2em;color: black;border-radius: 0.25em;background-color: #f0f8ff;}#sk-container-id-13 input.sk-toggleable__control:checked~div.sk-toggleable__content {max-height: 200px;max-width: 100%;overflow: auto;}#sk-container-id-13 input.sk-toggleable__control:checked~label.sk-toggleable__label-arrow:before {content: \"▾\";}#sk-container-id-13 div.sk-estimator input.sk-toggleable__control:checked~label.sk-toggleable__label {background-color: #d4ebff;}#sk-container-id-13 div.sk-label input.sk-toggleable__control:checked~label.sk-toggleable__label {background-color: #d4ebff;}#sk-container-id-13 input.sk-hidden--visually {border: 0;clip: rect(1px 1px 1px 1px);clip: rect(1px, 1px, 1px, 1px);height: 1px;margin: -1px;overflow: hidden;padding: 0;position: absolute;width: 1px;}#sk-container-id-13 div.sk-estimator {font-family: monospace;background-color: #f0f8ff;border: 1px dotted black;border-radius: 0.25em;box-sizing: border-box;margin-bottom: 0.5em;}#sk-container-id-13 div.sk-estimator:hover {background-color: #d4ebff;}#sk-container-id-13 div.sk-parallel-item::after {content: \"\";width: 100%;border-bottom: 1px solid gray;flex-grow: 1;}#sk-container-id-13 div.sk-label:hover label.sk-toggleable__label {background-color: #d4ebff;}#sk-container-id-13 div.sk-serial::before {content: \"\";position: absolute;border-left: 1px solid gray;box-sizing: border-box;top: 0;bottom: 0;left: 50%;z-index: 0;}#sk-container-id-13 div.sk-serial {display: flex;flex-direction: column;align-items: center;background-color: white;padding-right: 0.2em;padding-left: 0.2em;position: relative;}#sk-container-id-13 div.sk-item {position: relative;z-index: 1;}#sk-container-id-13 div.sk-parallel {display: flex;align-items: stretch;justify-content: center;background-color: white;position: relative;}#sk-container-id-13 div.sk-item::before, #sk-container-id-13 div.sk-parallel-item::before {content: \"\";position: absolute;border-left: 1px solid gray;box-sizing: border-box;top: 0;bottom: 0;left: 50%;z-index: -1;}#sk-container-id-13 div.sk-parallel-item {display: flex;flex-direction: column;z-index: 1;position: relative;background-color: white;}#sk-container-id-13 div.sk-parallel-item:first-child::after {align-self: flex-end;width: 50%;}#sk-container-id-13 div.sk-parallel-item:last-child::after {align-self: flex-start;width: 50%;}#sk-container-id-13 div.sk-parallel-item:only-child::after {width: 0;}#sk-container-id-13 div.sk-dashed-wrapped {border: 1px dashed gray;margin: 0 0.4em 0.5em 0.4em;box-sizing: border-box;padding-bottom: 0.4em;background-color: white;}#sk-container-id-13 div.sk-label label {font-family: monospace;font-weight: bold;display: inline-block;line-height: 1.2em;}#sk-container-id-13 div.sk-label-container {text-align: center;}#sk-container-id-13 div.sk-container {/* jupyter's `normalize.less` sets `[hidden] { display: none; }` but bootstrap.min.css set `[hidden] { display: none !important; }` so we also need the `!important` here to be able to override the default hidden behavior on the sphinx rendered scikit-learn.org. See: https://github.com/scikit-learn/scikit-learn/issues/21755 */display: inline-block !important;position: relative;}#sk-container-id-13 div.sk-text-repr-fallback {display: none;}</style><div id=\"sk-container-id-13\" class=\"sk-top-container\"><div class=\"sk-text-repr-fallback\"><pre>LogisticRegression(C=100.0, multi_class=&#x27;ovr&#x27;, solver=&#x27;liblinear&#x27;)</pre><b>In a Jupyter environment, please rerun this cell to show the HTML representation or trust the notebook. <br />On GitHub, the HTML representation is unable to render, please try loading this page with nbviewer.org.</b></div><div class=\"sk-container\" hidden><div class=\"sk-item\"><div class=\"sk-estimator sk-toggleable\"><input class=\"sk-toggleable__control sk-hidden--visually\" id=\"sk-estimator-id-13\" type=\"checkbox\" checked><label for=\"sk-estimator-id-13\" class=\"sk-toggleable__label sk-toggleable__label-arrow\">LogisticRegression</label><div class=\"sk-toggleable__content\"><pre>LogisticRegression(C=100.0, multi_class=&#x27;ovr&#x27;, solver=&#x27;liblinear&#x27;)</pre></div></div></div></div></div>"
      ],
      "text/plain": [
       "LogisticRegression(C=100.0, multi_class='ovr', solver='liblinear')"
      ]
     },
     "execution_count": 32,
     "metadata": {},
     "output_type": "execute_result"
    }
   ],
   "source": [
    "lrmodel.fit(X_train_std, y_train)"
   ]
  },
  {
   "cell_type": "code",
   "execution_count": 33,
   "id": "58651c0b",
   "metadata": {
    "execution": {
     "iopub.execute_input": "2023-08-08T23:56:28.988299Z",
     "iopub.status.busy": "2023-08-08T23:56:28.987964Z",
     "iopub.status.idle": "2023-08-08T23:56:30.688210Z",
     "shell.execute_reply": "2023-08-08T23:56:30.686891Z"
    },
    "papermill": {
     "duration": 1.719014,
     "end_time": "2023-08-08T23:56:30.690421",
     "exception": false,
     "start_time": "2023-08-08T23:56:28.971407",
     "status": "completed"
    },
    "tags": []
   },
   "outputs": [
    {
     "data": {
      "text/html": [
       "<style>#sk-container-id-14 {color: black;background-color: white;}#sk-container-id-14 pre{padding: 0;}#sk-container-id-14 div.sk-toggleable {background-color: white;}#sk-container-id-14 label.sk-toggleable__label {cursor: pointer;display: block;width: 100%;margin-bottom: 0;padding: 0.3em;box-sizing: border-box;text-align: center;}#sk-container-id-14 label.sk-toggleable__label-arrow:before {content: \"▸\";float: left;margin-right: 0.25em;color: #696969;}#sk-container-id-14 label.sk-toggleable__label-arrow:hover:before {color: black;}#sk-container-id-14 div.sk-estimator:hover label.sk-toggleable__label-arrow:before {color: black;}#sk-container-id-14 div.sk-toggleable__content {max-height: 0;max-width: 0;overflow: hidden;text-align: left;background-color: #f0f8ff;}#sk-container-id-14 div.sk-toggleable__content pre {margin: 0.2em;color: black;border-radius: 0.25em;background-color: #f0f8ff;}#sk-container-id-14 input.sk-toggleable__control:checked~div.sk-toggleable__content {max-height: 200px;max-width: 100%;overflow: auto;}#sk-container-id-14 input.sk-toggleable__control:checked~label.sk-toggleable__label-arrow:before {content: \"▾\";}#sk-container-id-14 div.sk-estimator input.sk-toggleable__control:checked~label.sk-toggleable__label {background-color: #d4ebff;}#sk-container-id-14 div.sk-label input.sk-toggleable__control:checked~label.sk-toggleable__label {background-color: #d4ebff;}#sk-container-id-14 input.sk-hidden--visually {border: 0;clip: rect(1px 1px 1px 1px);clip: rect(1px, 1px, 1px, 1px);height: 1px;margin: -1px;overflow: hidden;padding: 0;position: absolute;width: 1px;}#sk-container-id-14 div.sk-estimator {font-family: monospace;background-color: #f0f8ff;border: 1px dotted black;border-radius: 0.25em;box-sizing: border-box;margin-bottom: 0.5em;}#sk-container-id-14 div.sk-estimator:hover {background-color: #d4ebff;}#sk-container-id-14 div.sk-parallel-item::after {content: \"\";width: 100%;border-bottom: 1px solid gray;flex-grow: 1;}#sk-container-id-14 div.sk-label:hover label.sk-toggleable__label {background-color: #d4ebff;}#sk-container-id-14 div.sk-serial::before {content: \"\";position: absolute;border-left: 1px solid gray;box-sizing: border-box;top: 0;bottom: 0;left: 50%;z-index: 0;}#sk-container-id-14 div.sk-serial {display: flex;flex-direction: column;align-items: center;background-color: white;padding-right: 0.2em;padding-left: 0.2em;position: relative;}#sk-container-id-14 div.sk-item {position: relative;z-index: 1;}#sk-container-id-14 div.sk-parallel {display: flex;align-items: stretch;justify-content: center;background-color: white;position: relative;}#sk-container-id-14 div.sk-item::before, #sk-container-id-14 div.sk-parallel-item::before {content: \"\";position: absolute;border-left: 1px solid gray;box-sizing: border-box;top: 0;bottom: 0;left: 50%;z-index: -1;}#sk-container-id-14 div.sk-parallel-item {display: flex;flex-direction: column;z-index: 1;position: relative;background-color: white;}#sk-container-id-14 div.sk-parallel-item:first-child::after {align-self: flex-end;width: 50%;}#sk-container-id-14 div.sk-parallel-item:last-child::after {align-self: flex-start;width: 50%;}#sk-container-id-14 div.sk-parallel-item:only-child::after {width: 0;}#sk-container-id-14 div.sk-dashed-wrapped {border: 1px dashed gray;margin: 0 0.4em 0.5em 0.4em;box-sizing: border-box;padding-bottom: 0.4em;background-color: white;}#sk-container-id-14 div.sk-label label {font-family: monospace;font-weight: bold;display: inline-block;line-height: 1.2em;}#sk-container-id-14 div.sk-label-container {text-align: center;}#sk-container-id-14 div.sk-container {/* jupyter's `normalize.less` sets `[hidden] { display: none; }` but bootstrap.min.css set `[hidden] { display: none !important; }` so we also need the `!important` here to be able to override the default hidden behavior on the sphinx rendered scikit-learn.org. See: https://github.com/scikit-learn/scikit-learn/issues/21755 */display: inline-block !important;position: relative;}#sk-container-id-14 div.sk-text-repr-fallback {display: none;}</style><div id=\"sk-container-id-14\" class=\"sk-top-container\"><div class=\"sk-text-repr-fallback\"><pre>RandomForestClassifier(max_depth=5, random_state=1)</pre><b>In a Jupyter environment, please rerun this cell to show the HTML representation or trust the notebook. <br />On GitHub, the HTML representation is unable to render, please try loading this page with nbviewer.org.</b></div><div class=\"sk-container\" hidden><div class=\"sk-item\"><div class=\"sk-estimator sk-toggleable\"><input class=\"sk-toggleable__control sk-hidden--visually\" id=\"sk-estimator-id-14\" type=\"checkbox\" checked><label for=\"sk-estimator-id-14\" class=\"sk-toggleable__label sk-toggleable__label-arrow\">RandomForestClassifier</label><div class=\"sk-toggleable__content\"><pre>RandomForestClassifier(max_depth=5, random_state=1)</pre></div></div></div></div></div>"
      ],
      "text/plain": [
       "RandomForestClassifier(max_depth=5, random_state=1)"
      ]
     },
     "execution_count": 33,
     "metadata": {},
     "output_type": "execute_result"
    }
   ],
   "source": [
    "randomforestmodel.fit(X_train_std, y_train)"
   ]
  },
  {
   "cell_type": "code",
   "execution_count": 34,
   "id": "b7685b92",
   "metadata": {
    "execution": {
     "iopub.execute_input": "2023-08-08T23:56:30.723680Z",
     "iopub.status.busy": "2023-08-08T23:56:30.723294Z",
     "iopub.status.idle": "2023-08-08T23:56:30.735759Z",
     "shell.execute_reply": "2023-08-08T23:56:30.734963Z"
    },
    "papermill": {
     "duration": 0.031727,
     "end_time": "2023-08-08T23:56:30.737924",
     "exception": false,
     "start_time": "2023-08-08T23:56:30.706197",
     "status": "completed"
    },
    "tags": []
   },
   "outputs": [],
   "source": [
    "y_pred_ppn= ppn.predict(X_test_std)"
   ]
  },
  {
   "cell_type": "code",
   "execution_count": 35,
   "id": "4125e8a8",
   "metadata": {
    "execution": {
     "iopub.execute_input": "2023-08-08T23:56:30.785881Z",
     "iopub.status.busy": "2023-08-08T23:56:30.784241Z",
     "iopub.status.idle": "2023-08-08T23:56:34.751097Z",
     "shell.execute_reply": "2023-08-08T23:56:34.750042Z"
    },
    "papermill": {
     "duration": 3.99555,
     "end_time": "2023-08-08T23:56:34.753561",
     "exception": false,
     "start_time": "2023-08-08T23:56:30.758011",
     "status": "completed"
    },
    "tags": []
   },
   "outputs": [],
   "source": [
    "y_pred_svmrbf= svmrbf.predict(X_test_std)"
   ]
  },
  {
   "cell_type": "code",
   "execution_count": 36,
   "id": "ed8743fb",
   "metadata": {
    "execution": {
     "iopub.execute_input": "2023-08-08T23:56:34.786692Z",
     "iopub.status.busy": "2023-08-08T23:56:34.785994Z",
     "iopub.status.idle": "2023-08-08T23:56:38.124502Z",
     "shell.execute_reply": "2023-08-08T23:56:38.123068Z"
    },
    "papermill": {
     "duration": 3.357768,
     "end_time": "2023-08-08T23:56:38.126985",
     "exception": false,
     "start_time": "2023-08-08T23:56:34.769217",
     "status": "completed"
    },
    "tags": []
   },
   "outputs": [],
   "source": [
    "y_pred_knn= knn.predict(X_test_std)"
   ]
  },
  {
   "cell_type": "code",
   "execution_count": 37,
   "id": "7e736113",
   "metadata": {
    "execution": {
     "iopub.execute_input": "2023-08-08T23:56:38.162750Z",
     "iopub.status.busy": "2023-08-08T23:56:38.162166Z",
     "iopub.status.idle": "2023-08-08T23:56:38.167986Z",
     "shell.execute_reply": "2023-08-08T23:56:38.166701Z"
    },
    "papermill": {
     "duration": 0.027775,
     "end_time": "2023-08-08T23:56:38.170704",
     "exception": false,
     "start_time": "2023-08-08T23:56:38.142929",
     "status": "completed"
    },
    "tags": []
   },
   "outputs": [],
   "source": [
    "y_pred_dt= dt.predict(X_test_std)"
   ]
  },
  {
   "cell_type": "code",
   "execution_count": 38,
   "id": "219b7984",
   "metadata": {
    "execution": {
     "iopub.execute_input": "2023-08-08T23:56:38.203674Z",
     "iopub.status.busy": "2023-08-08T23:56:38.203326Z",
     "iopub.status.idle": "2023-08-08T23:56:42.183055Z",
     "shell.execute_reply": "2023-08-08T23:56:42.181685Z"
    },
    "papermill": {
     "duration": 3.999104,
     "end_time": "2023-08-08T23:56:42.185863",
     "exception": false,
     "start_time": "2023-08-08T23:56:38.186759",
     "status": "completed"
    },
    "tags": []
   },
   "outputs": [],
   "source": [
    "y_pred_svm=svm.predict(X_test_std)"
   ]
  },
  {
   "cell_type": "code",
   "execution_count": 39,
   "id": "62703457",
   "metadata": {
    "execution": {
     "iopub.execute_input": "2023-08-08T23:56:42.219691Z",
     "iopub.status.busy": "2023-08-08T23:56:42.219276Z",
     "iopub.status.idle": "2023-08-08T23:56:42.225858Z",
     "shell.execute_reply": "2023-08-08T23:56:42.225051Z"
    },
    "papermill": {
     "duration": 0.0263,
     "end_time": "2023-08-08T23:56:42.228195",
     "exception": false,
     "start_time": "2023-08-08T23:56:42.201895",
     "status": "completed"
    },
    "tags": []
   },
   "outputs": [],
   "source": [
    "y_pred_lr=lrmodel.predict(X_test_std)"
   ]
  },
  {
   "cell_type": "code",
   "execution_count": 40,
   "id": "426b80f3",
   "metadata": {
    "execution": {
     "iopub.execute_input": "2023-08-08T23:56:42.273043Z",
     "iopub.status.busy": "2023-08-08T23:56:42.272630Z",
     "iopub.status.idle": "2023-08-08T23:56:42.349657Z",
     "shell.execute_reply": "2023-08-08T23:56:42.348563Z"
    },
    "papermill": {
     "duration": 0.103007,
     "end_time": "2023-08-08T23:56:42.352316",
     "exception": false,
     "start_time": "2023-08-08T23:56:42.249309",
     "status": "completed"
    },
    "tags": []
   },
   "outputs": [],
   "source": [
    "y_pred_rf=randomforestmodel.predict(X_test_std)"
   ]
  },
  {
   "cell_type": "markdown",
   "id": "ec372fff",
   "metadata": {
    "papermill": {
     "duration": 0.015452,
     "end_time": "2023-08-08T23:56:42.383666",
     "exception": false,
     "start_time": "2023-08-08T23:56:42.368214",
     "status": "completed"
    },
    "tags": []
   },
   "source": [
    "This chunk of code shows the accuracy of each model without using PCA and it shows that each model is more accurate when not using PCA"
   ]
  },
  {
   "cell_type": "code",
   "execution_count": 41,
   "id": "9ad047f0",
   "metadata": {
    "execution": {
     "iopub.execute_input": "2023-08-08T23:56:42.418644Z",
     "iopub.status.busy": "2023-08-08T23:56:42.417969Z",
     "iopub.status.idle": "2023-08-08T23:56:42.432302Z",
     "shell.execute_reply": "2023-08-08T23:56:42.430824Z"
    },
    "papermill": {
     "duration": 0.034633,
     "end_time": "2023-08-08T23:56:42.434909",
     "exception": false,
     "start_time": "2023-08-08T23:56:42.400276",
     "status": "completed"
    },
    "tags": []
   },
   "outputs": [
    {
     "name": "stdout",
     "output_type": "stream",
     "text": [
      "Accuracy of svm: 0.8536148432501599\n",
      "Accuracy of svmrbf: 0.8536148432501599\n",
      "Accuracy of knn: 0.8259756877799105\n",
      "Accuracy of dt: 0.8477287268074216\n",
      "Accuracy of rf: 0.8507997440818938\n",
      "Accuracy of lr: 0.8280230326295586\n",
      "Accuracy of ppn: 0.7705694177863084\n"
     ]
    }
   ],
   "source": [
    "accuracyppn= accuracy_score(y_test, y_pred_ppn)\n",
    "accuracylr= accuracy_score(y_test, y_pred_lr)\n",
    "accuracyrf= accuracy_score(y_test, y_pred_rf)\n",
    "accuracydt= accuracy_score(y_test, y_pred_dt)\n",
    "accuracyknn= accuracy_score(y_test, y_pred_knn)\n",
    "accuracysvmrbf= accuracy_score(y_test, y_pred_svmrbf)\n",
    "accuracysvm= accuracy_score(y_test, y_pred_svm)\n",
    "print(\"Accuracy of svm:\",accuracysvm)\n",
    "print(\"Accuracy of svmrbf:\",accuracysvmrbf)\n",
    "print(\"Accuracy of knn:\",accuracyknn)\n",
    "print(\"Accuracy of dt:\",accuracydt)\n",
    "print(\"Accuracy of rf:\",accuracyrf)\n",
    "print(\"Accuracy of lr:\",accuracylr)\n",
    "print(\"Accuracy of ppn:\",accuracyppn)"
   ]
  },
  {
   "cell_type": "markdown",
   "id": "eac5cfc0",
   "metadata": {
    "papermill": {
     "duration": 0.015858,
     "end_time": "2023-08-08T23:56:42.466878",
     "exception": false,
     "start_time": "2023-08-08T23:56:42.451020",
     "status": "completed"
    },
    "tags": []
   },
   "source": [
    "SVM with the RBF kernel is used due to having the highest accuracy and its capability of being used for non-linear data. Perceptron, logistic regression, and svm with the linear kernel have a weakness against non-linearly separable data which is why they were not chosen. Although randomforest, decision trees, and KNN are good for non-linearly separable data they were also not chosen due to having lower accuracy scores. "
   ]
  },
  {
   "cell_type": "markdown",
   "id": "548b757b",
   "metadata": {
    "papermill": {
     "duration": 0.01476,
     "end_time": "2023-08-08T23:56:42.498309",
     "exception": false,
     "start_time": "2023-08-08T23:56:42.483549",
     "status": "completed"
    },
    "tags": []
   },
   "source": [
    "TESTING THE MODEL"
   ]
  },
  {
   "cell_type": "markdown",
   "id": "5bd033bc",
   "metadata": {
    "papermill": {
     "duration": 0.015117,
     "end_time": "2023-08-08T23:56:42.528487",
     "exception": false,
     "start_time": "2023-08-08T23:56:42.513370",
     "status": "completed"
    },
    "tags": []
   },
   "source": [
    "Here the test data is being retrieved from the competition input data using pandas"
   ]
  },
  {
   "cell_type": "code",
   "execution_count": 42,
   "id": "080d54b4",
   "metadata": {
    "execution": {
     "iopub.execute_input": "2023-08-08T23:56:42.570940Z",
     "iopub.status.busy": "2023-08-08T23:56:42.569629Z",
     "iopub.status.idle": "2023-08-08T23:56:42.601424Z",
     "shell.execute_reply": "2023-08-08T23:56:42.600334Z"
    },
    "papermill": {
     "duration": 0.056886,
     "end_time": "2023-08-08T23:56:42.603798",
     "exception": false,
     "start_time": "2023-08-08T23:56:42.546912",
     "status": "completed"
    },
    "tags": []
   },
   "outputs": [],
   "source": [
    "test_data = pd.read_csv('/kaggle/input/adult-income-classification-challenge-map-6990-mi/test.csv')"
   ]
  },
  {
   "cell_type": "markdown",
   "id": "e4b1f85b",
   "metadata": {
    "papermill": {
     "duration": 0.015561,
     "end_time": "2023-08-08T23:56:42.637932",
     "exception": false,
     "start_time": "2023-08-08T23:56:42.622371",
     "status": "completed"
    },
    "tags": []
   },
   "source": [
    "I am once again checking for any unusable data"
   ]
  },
  {
   "cell_type": "code",
   "execution_count": 43,
   "id": "fd3a4b9b",
   "metadata": {
    "execution": {
     "iopub.execute_input": "2023-08-08T23:56:42.672606Z",
     "iopub.status.busy": "2023-08-08T23:56:42.670797Z",
     "iopub.status.idle": "2023-08-08T23:56:42.686949Z",
     "shell.execute_reply": "2023-08-08T23:56:42.685352Z"
    },
    "papermill": {
     "duration": 0.035932,
     "end_time": "2023-08-08T23:56:42.689685",
     "exception": false,
     "start_time": "2023-08-08T23:56:42.653753",
     "status": "completed"
    },
    "tags": []
   },
   "outputs": [
    {
     "data": {
      "text/html": [
       "<div>\n",
       "<style scoped>\n",
       "    .dataframe tbody tr th:only-of-type {\n",
       "        vertical-align: middle;\n",
       "    }\n",
       "\n",
       "    .dataframe tbody tr th {\n",
       "        vertical-align: top;\n",
       "    }\n",
       "\n",
       "    .dataframe thead th {\n",
       "        text-align: right;\n",
       "    }\n",
       "</style>\n",
       "<table border=\"1\" class=\"dataframe\">\n",
       "  <thead>\n",
       "    <tr style=\"text-align: right;\">\n",
       "      <th></th>\n",
       "      <th>ID</th>\n",
       "      <th>age</th>\n",
       "      <th>workclass</th>\n",
       "      <th>fnlwgt</th>\n",
       "      <th>education</th>\n",
       "      <th>education-num</th>\n",
       "      <th>marital-status</th>\n",
       "      <th>occupation</th>\n",
       "      <th>relationship</th>\n",
       "      <th>race</th>\n",
       "      <th>sex</th>\n",
       "      <th>capital-gain</th>\n",
       "      <th>capital-loss</th>\n",
       "      <th>hours-per-week</th>\n",
       "      <th>native-country</th>\n",
       "    </tr>\n",
       "  </thead>\n",
       "  <tbody>\n",
       "    <tr>\n",
       "      <th>0</th>\n",
       "      <td>40422</td>\n",
       "      <td>30</td>\n",
       "      <td>Private</td>\n",
       "      <td>378009</td>\n",
       "      <td>HS-grad</td>\n",
       "      <td>9</td>\n",
       "      <td>Never-married</td>\n",
       "      <td>Machine-op-inspct</td>\n",
       "      <td>Own-child</td>\n",
       "      <td>White</td>\n",
       "      <td>Male</td>\n",
       "      <td>0</td>\n",
       "      <td>0</td>\n",
       "      <td>40</td>\n",
       "      <td>United-States</td>\n",
       "    </tr>\n",
       "    <tr>\n",
       "      <th>1</th>\n",
       "      <td>47739</td>\n",
       "      <td>54</td>\n",
       "      <td>State-gov</td>\n",
       "      <td>55861</td>\n",
       "      <td>Assoc-acdm</td>\n",
       "      <td>12</td>\n",
       "      <td>Divorced</td>\n",
       "      <td>Adm-clerical</td>\n",
       "      <td>Not-in-family</td>\n",
       "      <td>White</td>\n",
       "      <td>Male</td>\n",
       "      <td>0</td>\n",
       "      <td>0</td>\n",
       "      <td>39</td>\n",
       "      <td>United-States</td>\n",
       "    </tr>\n",
       "    <tr>\n",
       "      <th>2</th>\n",
       "      <td>519</td>\n",
       "      <td>21</td>\n",
       "      <td>?</td>\n",
       "      <td>204226</td>\n",
       "      <td>Some-college</td>\n",
       "      <td>10</td>\n",
       "      <td>Never-married</td>\n",
       "      <td>?</td>\n",
       "      <td>Unmarried</td>\n",
       "      <td>White</td>\n",
       "      <td>Female</td>\n",
       "      <td>0</td>\n",
       "      <td>0</td>\n",
       "      <td>35</td>\n",
       "      <td>United-States</td>\n",
       "    </tr>\n",
       "    <tr>\n",
       "      <th>3</th>\n",
       "      <td>8565</td>\n",
       "      <td>35</td>\n",
       "      <td>Private</td>\n",
       "      <td>306678</td>\n",
       "      <td>HS-grad</td>\n",
       "      <td>9</td>\n",
       "      <td>Married-civ-spouse</td>\n",
       "      <td>Machine-op-inspct</td>\n",
       "      <td>Husband</td>\n",
       "      <td>White</td>\n",
       "      <td>Male</td>\n",
       "      <td>2885</td>\n",
       "      <td>0</td>\n",
       "      <td>40</td>\n",
       "      <td>United-States</td>\n",
       "    </tr>\n",
       "    <tr>\n",
       "      <th>4</th>\n",
       "      <td>31356</td>\n",
       "      <td>42</td>\n",
       "      <td>Local-gov</td>\n",
       "      <td>121012</td>\n",
       "      <td>Some-college</td>\n",
       "      <td>10</td>\n",
       "      <td>Married-civ-spouse</td>\n",
       "      <td>Exec-managerial</td>\n",
       "      <td>Husband</td>\n",
       "      <td>White</td>\n",
       "      <td>Male</td>\n",
       "      <td>0</td>\n",
       "      <td>0</td>\n",
       "      <td>45</td>\n",
       "      <td>United-States</td>\n",
       "    </tr>\n",
       "  </tbody>\n",
       "</table>\n",
       "</div>"
      ],
      "text/plain": [
       "      ID  age   workclass  fnlwgt      education  education-num  \\\n",
       "0  40422   30     Private  378009        HS-grad              9   \n",
       "1  47739   54   State-gov   55861     Assoc-acdm             12   \n",
       "2    519   21           ?  204226   Some-college             10   \n",
       "3   8565   35     Private  306678        HS-grad              9   \n",
       "4  31356   42   Local-gov  121012   Some-college             10   \n",
       "\n",
       "        marital-status          occupation    relationship    race      sex  \\\n",
       "0        Never-married   Machine-op-inspct       Own-child   White     Male   \n",
       "1             Divorced        Adm-clerical   Not-in-family   White     Male   \n",
       "2        Never-married                   ?       Unmarried   White   Female   \n",
       "3   Married-civ-spouse   Machine-op-inspct         Husband   White     Male   \n",
       "4   Married-civ-spouse     Exec-managerial         Husband   White     Male   \n",
       "\n",
       "   capital-gain  capital-loss  hours-per-week  native-country  \n",
       "0             0             0              40   United-States  \n",
       "1             0             0              39   United-States  \n",
       "2             0             0              35   United-States  \n",
       "3          2885             0              40   United-States  \n",
       "4             0             0              45   United-States  "
      ]
     },
     "execution_count": 43,
     "metadata": {},
     "output_type": "execute_result"
    }
   ],
   "source": [
    "test_data.head()"
   ]
  },
  {
   "cell_type": "markdown",
   "id": "c4d8a3cc",
   "metadata": {
    "papermill": {
     "duration": 0.016179,
     "end_time": "2023-08-08T23:56:42.722248",
     "exception": false,
     "start_time": "2023-08-08T23:56:42.706069",
     "status": "completed"
    },
    "tags": []
   },
   "source": [
    "Once again the ID column is being dropped since it is not a feature"
   ]
  },
  {
   "cell_type": "code",
   "execution_count": 44,
   "id": "f195c08e",
   "metadata": {
    "execution": {
     "iopub.execute_input": "2023-08-08T23:56:42.757295Z",
     "iopub.status.busy": "2023-08-08T23:56:42.756913Z",
     "iopub.status.idle": "2023-08-08T23:56:42.764589Z",
     "shell.execute_reply": "2023-08-08T23:56:42.763480Z"
    },
    "papermill": {
     "duration": 0.02854,
     "end_time": "2023-08-08T23:56:42.766684",
     "exception": false,
     "start_time": "2023-08-08T23:56:42.738144",
     "status": "completed"
    },
    "tags": []
   },
   "outputs": [],
   "source": [
    "X_test_data= test_data.drop(['ID'], axis=1)"
   ]
  },
  {
   "cell_type": "markdown",
   "id": "e54f9782",
   "metadata": {
    "papermill": {
     "duration": 0.015413,
     "end_time": "2023-08-08T23:56:42.798131",
     "exception": false,
     "start_time": "2023-08-08T23:56:42.782718",
     "status": "completed"
    },
    "tags": []
   },
   "source": [
    "I am using the following code to check for null values again"
   ]
  },
  {
   "cell_type": "code",
   "execution_count": 45,
   "id": "f806e5a3",
   "metadata": {
    "execution": {
     "iopub.execute_input": "2023-08-08T23:56:42.832342Z",
     "iopub.status.busy": "2023-08-08T23:56:42.832021Z",
     "iopub.status.idle": "2023-08-08T23:56:42.852001Z",
     "shell.execute_reply": "2023-08-08T23:56:42.850878Z"
    },
    "papermill": {
     "duration": 0.039813,
     "end_time": "2023-08-08T23:56:42.853860",
     "exception": false,
     "start_time": "2023-08-08T23:56:42.814047",
     "status": "completed"
    },
    "tags": []
   },
   "outputs": [
    {
     "data": {
      "text/plain": [
       "age               0\n",
       "workclass         0\n",
       "fnlwgt            0\n",
       "education         0\n",
       "education-num     0\n",
       "marital-status    0\n",
       "occupation        0\n",
       "relationship      0\n",
       "race              0\n",
       "sex               0\n",
       "capital-gain      0\n",
       "capital-loss      0\n",
       "hours-per-week    0\n",
       "native-country    0\n",
       "dtype: int64"
      ]
     },
     "execution_count": 45,
     "metadata": {},
     "output_type": "execute_result"
    }
   ],
   "source": [
    "X_test_data.isnull().sum()"
   ]
  },
  {
   "cell_type": "markdown",
   "id": "76dbaab7",
   "metadata": {
    "papermill": {
     "duration": 0.016364,
     "end_time": "2023-08-08T23:56:42.886955",
     "exception": false,
     "start_time": "2023-08-08T23:56:42.870591",
     "status": "completed"
    },
    "tags": []
   },
   "source": [
    "I am once again using the label encooder to take care of the categorical data bygiving them unique labels."
   ]
  },
  {
   "cell_type": "code",
   "execution_count": 46,
   "id": "a36b8e61",
   "metadata": {
    "execution": {
     "iopub.execute_input": "2023-08-08T23:56:42.921635Z",
     "iopub.status.busy": "2023-08-08T23:56:42.920453Z",
     "iopub.status.idle": "2023-08-08T23:56:42.958600Z",
     "shell.execute_reply": "2023-08-08T23:56:42.957545Z"
    },
    "papermill": {
     "duration": 0.058737,
     "end_time": "2023-08-08T23:56:42.961083",
     "exception": false,
     "start_time": "2023-08-08T23:56:42.902346",
     "status": "completed"
    },
    "tags": []
   },
   "outputs": [
    {
     "data": {
      "text/html": [
       "<div>\n",
       "<style scoped>\n",
       "    .dataframe tbody tr th:only-of-type {\n",
       "        vertical-align: middle;\n",
       "    }\n",
       "\n",
       "    .dataframe tbody tr th {\n",
       "        vertical-align: top;\n",
       "    }\n",
       "\n",
       "    .dataframe thead th {\n",
       "        text-align: right;\n",
       "    }\n",
       "</style>\n",
       "<table border=\"1\" class=\"dataframe\">\n",
       "  <thead>\n",
       "    <tr style=\"text-align: right;\">\n",
       "      <th></th>\n",
       "      <th>age</th>\n",
       "      <th>workclass</th>\n",
       "      <th>fnlwgt</th>\n",
       "      <th>education</th>\n",
       "      <th>education-num</th>\n",
       "      <th>marital-status</th>\n",
       "      <th>occupation</th>\n",
       "      <th>relationship</th>\n",
       "      <th>race</th>\n",
       "      <th>sex</th>\n",
       "      <th>capital-gain</th>\n",
       "      <th>capital-loss</th>\n",
       "      <th>hours-per-week</th>\n",
       "      <th>native-country</th>\n",
       "    </tr>\n",
       "  </thead>\n",
       "  <tbody>\n",
       "    <tr>\n",
       "      <th>0</th>\n",
       "      <td>30</td>\n",
       "      <td>4</td>\n",
       "      <td>378009</td>\n",
       "      <td>11</td>\n",
       "      <td>9</td>\n",
       "      <td>4</td>\n",
       "      <td>7</td>\n",
       "      <td>3</td>\n",
       "      <td>4</td>\n",
       "      <td>1</td>\n",
       "      <td>0</td>\n",
       "      <td>0</td>\n",
       "      <td>40</td>\n",
       "      <td>38</td>\n",
       "    </tr>\n",
       "    <tr>\n",
       "      <th>1</th>\n",
       "      <td>54</td>\n",
       "      <td>7</td>\n",
       "      <td>55861</td>\n",
       "      <td>7</td>\n",
       "      <td>12</td>\n",
       "      <td>0</td>\n",
       "      <td>1</td>\n",
       "      <td>1</td>\n",
       "      <td>4</td>\n",
       "      <td>1</td>\n",
       "      <td>0</td>\n",
       "      <td>0</td>\n",
       "      <td>39</td>\n",
       "      <td>38</td>\n",
       "    </tr>\n",
       "    <tr>\n",
       "      <th>2</th>\n",
       "      <td>21</td>\n",
       "      <td>0</td>\n",
       "      <td>204226</td>\n",
       "      <td>15</td>\n",
       "      <td>10</td>\n",
       "      <td>4</td>\n",
       "      <td>0</td>\n",
       "      <td>4</td>\n",
       "      <td>4</td>\n",
       "      <td>0</td>\n",
       "      <td>0</td>\n",
       "      <td>0</td>\n",
       "      <td>35</td>\n",
       "      <td>38</td>\n",
       "    </tr>\n",
       "    <tr>\n",
       "      <th>3</th>\n",
       "      <td>35</td>\n",
       "      <td>4</td>\n",
       "      <td>306678</td>\n",
       "      <td>11</td>\n",
       "      <td>9</td>\n",
       "      <td>2</td>\n",
       "      <td>7</td>\n",
       "      <td>0</td>\n",
       "      <td>4</td>\n",
       "      <td>1</td>\n",
       "      <td>2885</td>\n",
       "      <td>0</td>\n",
       "      <td>40</td>\n",
       "      <td>38</td>\n",
       "    </tr>\n",
       "    <tr>\n",
       "      <th>4</th>\n",
       "      <td>42</td>\n",
       "      <td>2</td>\n",
       "      <td>121012</td>\n",
       "      <td>15</td>\n",
       "      <td>10</td>\n",
       "      <td>2</td>\n",
       "      <td>4</td>\n",
       "      <td>0</td>\n",
       "      <td>4</td>\n",
       "      <td>1</td>\n",
       "      <td>0</td>\n",
       "      <td>0</td>\n",
       "      <td>45</td>\n",
       "      <td>38</td>\n",
       "    </tr>\n",
       "  </tbody>\n",
       "</table>\n",
       "</div>"
      ],
      "text/plain": [
       "   age  workclass  fnlwgt  education  education-num  marital-status  \\\n",
       "0   30          4  378009         11              9               4   \n",
       "1   54          7   55861          7             12               0   \n",
       "2   21          0  204226         15             10               4   \n",
       "3   35          4  306678         11              9               2   \n",
       "4   42          2  121012         15             10               2   \n",
       "\n",
       "   occupation  relationship  race  sex  capital-gain  capital-loss  \\\n",
       "0           7             3     4    1             0             0   \n",
       "1           1             1     4    1             0             0   \n",
       "2           0             4     4    0             0             0   \n",
       "3           7             0     4    1          2885             0   \n",
       "4           4             0     4    1             0             0   \n",
       "\n",
       "   hours-per-week  native-country  \n",
       "0              40              38  \n",
       "1              39              38  \n",
       "2              35              38  \n",
       "3              40              38  \n",
       "4              45              38  "
      ]
     },
     "execution_count": 46,
     "metadata": {},
     "output_type": "execute_result"
    }
   ],
   "source": [
    "X_test_data['workclass'] = le.fit_transform(X_test_data['workclass'].values)\n",
    "X_test_data['education'] = le.fit_transform(X_test_data['education'].values)\n",
    "X_test_data['marital-status'] = le.fit_transform(X_test_data['marital-status'].values)\n",
    "X_test_data['occupation'] = le.fit_transform(X_test_data['occupation'].values)\n",
    "X_test_data['relationship'] = le.fit_transform(X_test_data['relationship'].values)\n",
    "X_test_data['race'] = le.fit_transform(X_test_data['race'].values)\n",
    "X_test_data['sex'] = le.fit_transform(X_test_data['sex'].values)\n",
    "X_test_data['native-country'] = le.fit_transform(X_test_data['native-country'].values)\n",
    "X_test_data.head()"
   ]
  },
  {
   "cell_type": "markdown",
   "id": "7fc201fa",
   "metadata": {
    "papermill": {
     "duration": 0.016429,
     "end_time": "2023-08-08T23:56:42.994102",
     "exception": false,
     "start_time": "2023-08-08T23:56:42.977673",
     "status": "completed"
    },
    "tags": []
   },
   "source": [
    "I am scaling the testing data once again."
   ]
  },
  {
   "cell_type": "code",
   "execution_count": 47,
   "id": "96e7c295",
   "metadata": {
    "execution": {
     "iopub.execute_input": "2023-08-08T23:56:43.027683Z",
     "iopub.status.busy": "2023-08-08T23:56:43.027225Z",
     "iopub.status.idle": "2023-08-08T23:56:43.037704Z",
     "shell.execute_reply": "2023-08-08T23:56:43.036198Z"
    },
    "papermill": {
     "duration": 0.029864,
     "end_time": "2023-08-08T23:56:43.039958",
     "exception": false,
     "start_time": "2023-08-08T23:56:43.010094",
     "status": "completed"
    },
    "tags": []
   },
   "outputs": [],
   "source": [
    "sc.fit(X_test_data)\n",
    "X_test_data_scaled= sc.transform(X_test_data)"
   ]
  },
  {
   "cell_type": "markdown",
   "id": "1cd8c9c9",
   "metadata": {
    "papermill": {
     "duration": 0.015479,
     "end_time": "2023-08-08T23:56:43.071200",
     "exception": false,
     "start_time": "2023-08-08T23:56:43.055721",
     "status": "completed"
    },
    "tags": []
   },
   "source": [
    "In this cell I am using the svm rbf model to predict the target values using the scaled data"
   ]
  },
  {
   "cell_type": "code",
   "execution_count": 48,
   "id": "fea23db7",
   "metadata": {
    "execution": {
     "iopub.execute_input": "2023-08-08T23:56:43.105470Z",
     "iopub.status.busy": "2023-08-08T23:56:43.105083Z",
     "iopub.status.idle": "2023-08-08T23:56:48.038134Z",
     "shell.execute_reply": "2023-08-08T23:56:48.036503Z"
    },
    "papermill": {
     "duration": 4.954147,
     "end_time": "2023-08-08T23:56:48.041121",
     "exception": false,
     "start_time": "2023-08-08T23:56:43.086974",
     "status": "completed"
    },
    "tags": []
   },
   "outputs": [],
   "source": [
    "predictionssvmrbf = svmrbf.predict(X_test_data_scaled)"
   ]
  },
  {
   "cell_type": "markdown",
   "id": "02e4ac6f",
   "metadata": {
    "papermill": {
     "duration": 0.015893,
     "end_time": "2023-08-08T23:56:48.073313",
     "exception": false,
     "start_time": "2023-08-08T23:56:48.057420",
     "status": "completed"
    },
    "tags": []
   },
   "source": [
    "In the next few lines of code I am turning the results into a data frame and saving it as a csv."
   ]
  },
  {
   "cell_type": "code",
   "execution_count": 49,
   "id": "f80cf2d8",
   "metadata": {
    "execution": {
     "iopub.execute_input": "2023-08-08T23:56:48.107261Z",
     "iopub.status.busy": "2023-08-08T23:56:48.106871Z",
     "iopub.status.idle": "2023-08-08T23:56:48.113704Z",
     "shell.execute_reply": "2023-08-08T23:56:48.112568Z"
    },
    "papermill": {
     "duration": 0.027296,
     "end_time": "2023-08-08T23:56:48.116443",
     "exception": false,
     "start_time": "2023-08-08T23:56:48.089147",
     "status": "completed"
    },
    "tags": []
   },
   "outputs": [],
   "source": [
    "submission_datasvmrbf = pd.DataFrame({'ID': test_data['ID'], 'target': predictionssvmrbf})"
   ]
  },
  {
   "cell_type": "code",
   "execution_count": 50,
   "id": "501a9010",
   "metadata": {
    "execution": {
     "iopub.execute_input": "2023-08-08T23:56:48.151635Z",
     "iopub.status.busy": "2023-08-08T23:56:48.151234Z",
     "iopub.status.idle": "2023-08-08T23:56:48.169316Z",
     "shell.execute_reply": "2023-08-08T23:56:48.167790Z"
    },
    "papermill": {
     "duration": 0.038289,
     "end_time": "2023-08-08T23:56:48.171891",
     "exception": false,
     "start_time": "2023-08-08T23:56:48.133602",
     "status": "completed"
    },
    "tags": []
   },
   "outputs": [],
   "source": [
    "submission_datasvmrbf.to_csv('submission.csv', index=False)"
   ]
  }
 ],
 "metadata": {
  "kernelspec": {
   "display_name": "Python 3",
   "language": "python",
   "name": "python3"
  },
  "language_info": {
   "codemirror_mode": {
    "name": "ipython",
    "version": 3
   },
   "file_extension": ".py",
   "mimetype": "text/x-python",
   "name": "python",
   "nbconvert_exporter": "python",
   "pygments_lexer": "ipython3",
   "version": "3.10.12"
  },
  "papermill": {
   "default_parameters": {},
   "duration": 105.718729,
   "end_time": "2023-08-08T23:56:49.211797",
   "environment_variables": {},
   "exception": null,
   "input_path": "__notebook__.ipynb",
   "output_path": "__notebook__.ipynb",
   "parameters": {},
   "start_time": "2023-08-08T23:55:03.493068",
   "version": "2.4.0"
  }
 },
 "nbformat": 4,
 "nbformat_minor": 5
}
